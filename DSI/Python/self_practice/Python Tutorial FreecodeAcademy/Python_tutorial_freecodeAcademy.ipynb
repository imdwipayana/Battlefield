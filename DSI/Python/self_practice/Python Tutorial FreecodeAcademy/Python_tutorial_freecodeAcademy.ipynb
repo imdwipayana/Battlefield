{
 "cells": [
  {
   "cell_type": "code",
   "execution_count": 1,
   "id": "815e4ab8",
   "metadata": {},
   "outputs": [],
   "source": [
    "# Source: https://www.youtube.com/watch?v=qwAFL1597eM"
   ]
  },
  {
   "cell_type": "code",
   "execution_count": 1,
   "id": "8d8ec1fd",
   "metadata": {},
   "outputs": [
    {
     "name": "stdout",
     "output_type": "stream",
     "text": [
      "Hello World\n"
     ]
    }
   ],
   "source": [
    "greeting = 'Hello World'\n",
    "print(greeting)"
   ]
  },
  {
   "cell_type": "code",
   "execution_count": 2,
   "id": "1ee55ac7",
   "metadata": {},
   "outputs": [
    {
     "name": "stdout",
     "output_type": "stream",
     "text": [
      "\n",
      "**************************\n",
      "*                        *\n",
      "*         WELCOME!       *\n",
      "*                        *\n",
      "**************************\n"
     ]
    }
   ],
   "source": [
    "line01 = \"**************************\"\n",
    "line02 = \"*                        *\"\n",
    "line03 = \"*         WELCOME!       *\"\n",
    "\n",
    "print('')\n",
    "print(line01)\n",
    "print(line02)\n",
    "print(line03)\n",
    "print(line02)\n",
    "print(line01)"
   ]
  },
  {
   "cell_type": "code",
   "execution_count": 4,
   "id": "f8fe1331",
   "metadata": {},
   "outputs": [
    {
     "data": {
      "text/plain": [
       "'Eka Dwipayana'"
      ]
     },
     "execution_count": 4,
     "metadata": {},
     "output_type": "execute_result"
    }
   ],
   "source": [
    "'Eka' + ' ' + 'Dwipayana'"
   ]
  },
  {
   "cell_type": "code",
   "execution_count": 6,
   "id": "2941e3e0",
   "metadata": {},
   "outputs": [
    {
     "data": {
      "text/plain": [
       "1333735776850284124449081472843776"
      ]
     },
     "execution_count": 6,
     "metadata": {},
     "output_type": "execute_result"
    }
   ],
   "source": [
    "number = 24\n",
    "number ** number"
   ]
  },
  {
   "cell_type": "code",
   "execution_count": 15,
   "id": "92c9b75d",
   "metadata": {},
   "outputs": [
    {
     "name": "stdout",
     "output_type": "stream",
     "text": [
      "\n",
      "it is greater than 10, because its value is 42\n"
     ]
    }
   ],
   "source": [
    "meaning = 42\n",
    "print('')\n",
    "\n",
    "if meaning > 10:\n",
    "    print ('it is greater than 10, because its value is',meaning)\n",
    "else:\n",
    "    print('it is smaller than 10')\n"
   ]
  },
  {
   "cell_type": "code",
   "execution_count": 16,
   "id": "8d8813c8",
   "metadata": {},
   "outputs": [
    {
     "name": "stdout",
     "output_type": "stream",
     "text": [
      "Grade: B\n"
     ]
    }
   ],
   "source": [
    "score = 85\n",
    "\n",
    "if score >= 90:\n",
    "    print(\"Grade: A\")\n",
    "elif score >= 75:\n",
    "    print(\"Grade: B\")\n",
    "elif score >= 60:\n",
    "    print(\"Grade: C\")\n",
    "else:\n",
    "    print(\"Grade: F\")"
   ]
  },
  {
   "cell_type": "code",
   "execution_count": null,
   "id": "17f37fcc",
   "metadata": {},
   "outputs": [],
   "source": []
  },
  {
   "cell_type": "code",
   "execution_count": null,
   "id": "157582f0",
   "metadata": {},
   "outputs": [],
   "source": []
  },
  {
   "cell_type": "code",
   "execution_count": null,
   "id": "936ef6b3",
   "metadata": {},
   "outputs": [],
   "source": []
  },
  {
   "cell_type": "code",
   "execution_count": null,
   "id": "f861f82d",
   "metadata": {},
   "outputs": [],
   "source": []
  }
 ],
 "metadata": {
  "kernelspec": {
   "display_name": "dsi_participant",
   "language": "python",
   "name": "python3"
  },
  "language_info": {
   "codemirror_mode": {
    "name": "ipython",
    "version": 3
   },
   "file_extension": ".py",
   "mimetype": "text/x-python",
   "name": "python",
   "nbconvert_exporter": "python",
   "pygments_lexer": "ipython3",
   "version": "3.9.19"
  }
 },
 "nbformat": 4,
 "nbformat_minor": 5
}
