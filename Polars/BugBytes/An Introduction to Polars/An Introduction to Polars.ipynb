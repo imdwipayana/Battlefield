{
 "cells": [
  {
   "cell_type": "code",
   "execution_count": 1,
   "id": "f0d36a6d-85a0-412b-822b-bc0ba395a0a9",
   "metadata": {},
   "outputs": [
    {
     "name": "stdout",
     "output_type": "stream",
     "text": [
      "--------Version info---------\n",
      "Polars:              1.32.3\n",
      "Index type:          UInt32\n",
      "Platform:            Windows-10-10.0.19045-SP0\n",
      "Python:              3.12.11 | packaged by Anaconda, Inc. | (main, Jun  5 2025, 12:58:53) [MSC v.1929 64 bit (AMD64)]\n",
      "LTS CPU:             False\n",
      "\n",
      "----Optional dependencies----\n",
      "Azure CLI            <not installed>\n",
      "adbc_driver_manager  1.7.0\n",
      "altair               <not installed>\n",
      "azure.identity       <not installed>\n",
      "boto3                <not installed>\n",
      "cloudpickle          <not installed>\n",
      "connectorx           <not installed>\n",
      "deltalake            <not installed>\n",
      "fastexcel            <not installed>\n",
      "fsspec               2025.7.0\n",
      "gevent               <not installed>\n",
      "google.auth          <not installed>\n",
      "great_tables         <not installed>\n",
      "matplotlib           3.10.5\n",
      "numpy                2.3.2\n",
      "openpyxl             <not installed>\n",
      "pandas               2.3.2\n",
      "polars_cloud         <not installed>\n",
      "pyarrow              21.0.0\n",
      "pydantic             <not installed>\n",
      "pyiceberg            <not installed>\n",
      "sqlalchemy           2.0.43\n",
      "torch                <not installed>\n",
      "xlsx2csv             <not installed>\n",
      "xlsxwriter           <not installed>\n"
     ]
    }
   ],
   "source": [
    "import polars as pl\n",
    "pl.show_versions()"
   ]
  },
  {
   "cell_type": "code",
   "execution_count": null,
   "id": "1d1838d2-642d-4fa5-9e44-a46ac9a7e3b1",
   "metadata": {},
   "outputs": [],
   "source": []
  }
 ],
 "metadata": {
  "kernelspec": {
   "display_name": "Python 3 (ipykernel)",
   "language": "python",
   "name": "python3"
  },
  "language_info": {
   "codemirror_mode": {
    "name": "ipython",
    "version": 3
   },
   "file_extension": ".py",
   "mimetype": "text/x-python",
   "name": "python",
   "nbconvert_exporter": "python",
   "pygments_lexer": "ipython3",
   "version": "3.12.11"
  }
 },
 "nbformat": 4,
 "nbformat_minor": 5
}
