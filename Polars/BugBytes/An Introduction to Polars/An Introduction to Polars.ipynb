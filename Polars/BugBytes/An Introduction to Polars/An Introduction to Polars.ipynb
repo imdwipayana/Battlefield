{
 "cells": [
  {
   "cell_type": "code",
   "execution_count": 59,
   "id": "f0d36a6d-85a0-412b-822b-bc0ba395a0a9",
   "metadata": {},
   "outputs": [
    {
     "name": "stdout",
     "output_type": "stream",
     "text": [
      "--------Version info---------\n",
      "Polars:              1.32.3\n",
      "Index type:          UInt32\n",
      "Platform:            Windows-10-10.0.19045-SP0\n",
      "Python:              3.12.11 | packaged by Anaconda, Inc. | (main, Jun  5 2025, 12:58:53) [MSC v.1929 64 bit (AMD64)]\n",
      "LTS CPU:             False\n",
      "\n",
      "----Optional dependencies----\n",
      "Azure CLI            <not installed>\n",
      "adbc_driver_manager  1.7.0\n",
      "altair               5.5.0\n",
      "azure.identity       <not installed>\n",
      "boto3                <not installed>\n",
      "cloudpickle          <not installed>\n",
      "connectorx           <not installed>\n",
      "deltalake            <not installed>\n",
      "fastexcel            <not installed>\n",
      "fsspec               2025.7.0\n",
      "gevent               <not installed>\n",
      "google.auth          <not installed>\n",
      "great_tables         <not installed>\n",
      "matplotlib           3.10.5\n",
      "numpy                2.3.2\n",
      "openpyxl             <not installed>\n",
      "pandas               2.3.2\n",
      "polars_cloud         <not installed>\n",
      "pyarrow              21.0.0\n",
      "pydantic             <not installed>\n",
      "pyiceberg            <not installed>\n",
      "sqlalchemy           2.0.43\n",
      "torch                <not installed>\n",
      "xlsx2csv             <not installed>\n",
      "xlsxwriter           <not installed>\n"
     ]
    }
   ],
   "source": [
    "import polars as pl\n",
    "pl.show_versions()"
   ]
  },
  {
   "cell_type": "code",
   "execution_count": 2,
   "id": "1d1838d2-642d-4fa5-9e44-a46ac9a7e3b1",
   "metadata": {},
   "outputs": [
    {
     "data": {
      "text/html": [
       "<div><style>\n",
       ".dataframe > thead > tr,\n",
       ".dataframe > tbody > tr {\n",
       "  text-align: right;\n",
       "  white-space: pre-wrap;\n",
       "}\n",
       "</style>\n",
       "<small>shape: (6,)</small><table border=\"1\" class=\"dataframe\"><thead><tr><th>age</th></tr><tr><td>i64</td></tr></thead><tbody><tr><td>24</td></tr><tr><td>20</td></tr><tr><td>55</td></tr><tr><td>44</td></tr><tr><td>77</td></tr><tr><td>16</td></tr></tbody></table></div>"
      ],
      "text/plain": [
       "shape: (6,)\n",
       "Series: 'age' [i64]\n",
       "[\n",
       "\t24\n",
       "\t20\n",
       "\t55\n",
       "\t44\n",
       "\t77\n",
       "\t16\n",
       "]"
      ]
     },
     "execution_count": 2,
     "metadata": {},
     "output_type": "execute_result"
    }
   ],
   "source": [
    "series = pl.Series(\"age\", [24,20,55,44,77,16])\n",
    "series"
   ]
  },
  {
   "cell_type": "code",
   "execution_count": 3,
   "id": "869f8c77-32d1-46cc-b44a-024abfc92e8c",
   "metadata": {},
   "outputs": [
    {
     "data": {
      "text/plain": [
       "77"
      ]
     },
     "execution_count": 3,
     "metadata": {},
     "output_type": "execute_result"
    }
   ],
   "source": [
    "series.max()"
   ]
  },
  {
   "cell_type": "code",
   "execution_count": 4,
   "id": "004fb857-b288-4932-a2f8-98469a7bf9a4",
   "metadata": {},
   "outputs": [
    {
     "data": {
      "text/plain": [
       "16"
      ]
     },
     "execution_count": 4,
     "metadata": {},
     "output_type": "execute_result"
    }
   ],
   "source": [
    "series.min()"
   ]
  },
  {
   "cell_type": "code",
   "execution_count": 5,
   "id": "83ba2705-580b-4c1b-9908-549ea582cfdb",
   "metadata": {},
   "outputs": [
    {
     "data": {
      "text/plain": [
       "236"
      ]
     },
     "execution_count": 5,
     "metadata": {},
     "output_type": "execute_result"
    }
   ],
   "source": [
    "series.sum()"
   ]
  },
  {
   "cell_type": "code",
   "execution_count": 6,
   "id": "f141dcf2-8af6-47cf-a02e-799553a97977",
   "metadata": {},
   "outputs": [
    {
     "data": {
      "text/html": [
       "<div><style>\n",
       ".dataframe > thead > tr,\n",
       ".dataframe > tbody > tr {\n",
       "  text-align: right;\n",
       "  white-space: pre-wrap;\n",
       "}\n",
       "</style>\n",
       "<small>shape: (6,)</small><table border=\"1\" class=\"dataframe\"><thead><tr><th>age</th></tr><tr><td>i64</td></tr></thead><tbody><tr><td>16</td></tr><tr><td>20</td></tr><tr><td>24</td></tr><tr><td>44</td></tr><tr><td>55</td></tr><tr><td>77</td></tr></tbody></table></div>"
      ],
      "text/plain": [
       "shape: (6,)\n",
       "Series: 'age' [i64]\n",
       "[\n",
       "\t16\n",
       "\t20\n",
       "\t24\n",
       "\t44\n",
       "\t55\n",
       "\t77\n",
       "]"
      ]
     },
     "execution_count": 6,
     "metadata": {},
     "output_type": "execute_result"
    }
   ],
   "source": [
    "series.sort()"
   ]
  },
  {
   "cell_type": "code",
   "execution_count": 7,
   "id": "fd4e33d4-c9b1-44f6-81b0-fd230c5ecd55",
   "metadata": {},
   "outputs": [
    {
     "data": {
      "text/html": [
       "<div><style>\n",
       ".dataframe > thead > tr,\n",
       ".dataframe > tbody > tr {\n",
       "  text-align: right;\n",
       "  white-space: pre-wrap;\n",
       "}\n",
       "</style>\n",
       "<small>shape: (6,)</small><table border=\"1\" class=\"dataframe\"><thead><tr><th>age</th></tr><tr><td>i64</td></tr></thead><tbody><tr><td>77</td></tr><tr><td>55</td></tr><tr><td>44</td></tr><tr><td>24</td></tr><tr><td>20</td></tr><tr><td>16</td></tr></tbody></table></div>"
      ],
      "text/plain": [
       "shape: (6,)\n",
       "Series: 'age' [i64]\n",
       "[\n",
       "\t77\n",
       "\t55\n",
       "\t44\n",
       "\t24\n",
       "\t20\n",
       "\t16\n",
       "]"
      ]
     },
     "execution_count": 7,
     "metadata": {},
     "output_type": "execute_result"
    }
   ],
   "source": [
    "series.sort(descending=True)"
   ]
  },
  {
   "cell_type": "code",
   "execution_count": 8,
   "id": "2eef3bb2-59cd-4d0c-93e8-25691c21654a",
   "metadata": {},
   "outputs": [
    {
     "data": {
      "text/plain": [
       "0    24\n",
       "1    20\n",
       "2    55\n",
       "3    44\n",
       "4    77\n",
       "5    16\n",
       "Name: age, dtype: int64"
      ]
     },
     "execution_count": 8,
     "metadata": {},
     "output_type": "execute_result"
    }
   ],
   "source": [
    "series.to_pandas()"
   ]
  },
  {
   "cell_type": "code",
   "execution_count": 9,
   "id": "019e058f-e2f9-47b1-96b7-af87e8183419",
   "metadata": {},
   "outputs": [],
   "source": [
    "from datetime import date\n",
    "\n",
    "df = pl.DataFrame({\n",
    "    \"Employee ID\": [1,2,3,4,5],\n",
    "    \"Name\": [\"Alice\",\"Bob\",\"Charlie\",\"David\",\"Eve\"],\n",
    "    \"Age\": [29, 34, 31, 28, 42],\n",
    "    \"Department\": [\"HR\", \"Engineering\", \"Finance\", \"HR\", \"Finance\"],\n",
    "    \"Salary\": [50000.0, 75000.0, 60000.0, 58000.0, 85000.0],\n",
    "    \"Start Date\": [date(2023,5,21), date(2019,8,14), date(2021,1,10), date(2018,11,3), date(2022,6,27)]\n",
    "})"
   ]
  },
  {
   "cell_type": "code",
   "execution_count": 10,
   "id": "52674229-48ab-43a5-8478-7533abf18db5",
   "metadata": {},
   "outputs": [
    {
     "data": {
      "text/html": [
       "<div><style>\n",
       ".dataframe > thead > tr,\n",
       ".dataframe > tbody > tr {\n",
       "  text-align: right;\n",
       "  white-space: pre-wrap;\n",
       "}\n",
       "</style>\n",
       "<small>shape: (5, 6)</small><table border=\"1\" class=\"dataframe\"><thead><tr><th>Employee ID</th><th>Name</th><th>Age</th><th>Department</th><th>Salary</th><th>Start Date</th></tr><tr><td>i64</td><td>str</td><td>i64</td><td>str</td><td>f64</td><td>date</td></tr></thead><tbody><tr><td>1</td><td>&quot;Alice&quot;</td><td>29</td><td>&quot;HR&quot;</td><td>50000.0</td><td>2023-05-21</td></tr><tr><td>2</td><td>&quot;Bob&quot;</td><td>34</td><td>&quot;Engineering&quot;</td><td>75000.0</td><td>2019-08-14</td></tr><tr><td>3</td><td>&quot;Charlie&quot;</td><td>31</td><td>&quot;Finance&quot;</td><td>60000.0</td><td>2021-01-10</td></tr><tr><td>4</td><td>&quot;David&quot;</td><td>28</td><td>&quot;HR&quot;</td><td>58000.0</td><td>2018-11-03</td></tr><tr><td>5</td><td>&quot;Eve&quot;</td><td>42</td><td>&quot;Finance&quot;</td><td>85000.0</td><td>2022-06-27</td></tr></tbody></table></div>"
      ],
      "text/plain": [
       "shape: (5, 6)\n",
       "┌─────────────┬─────────┬─────┬─────────────┬─────────┬────────────┐\n",
       "│ Employee ID ┆ Name    ┆ Age ┆ Department  ┆ Salary  ┆ Start Date │\n",
       "│ ---         ┆ ---     ┆ --- ┆ ---         ┆ ---     ┆ ---        │\n",
       "│ i64         ┆ str     ┆ i64 ┆ str         ┆ f64     ┆ date       │\n",
       "╞═════════════╪═════════╪═════╪═════════════╪═════════╪════════════╡\n",
       "│ 1           ┆ Alice   ┆ 29  ┆ HR          ┆ 50000.0 ┆ 2023-05-21 │\n",
       "│ 2           ┆ Bob     ┆ 34  ┆ Engineering ┆ 75000.0 ┆ 2019-08-14 │\n",
       "│ 3           ┆ Charlie ┆ 31  ┆ Finance     ┆ 60000.0 ┆ 2021-01-10 │\n",
       "│ 4           ┆ David   ┆ 28  ┆ HR          ┆ 58000.0 ┆ 2018-11-03 │\n",
       "│ 5           ┆ Eve     ┆ 42  ┆ Finance     ┆ 85000.0 ┆ 2022-06-27 │\n",
       "└─────────────┴─────────┴─────┴─────────────┴─────────┴────────────┘"
      ]
     },
     "execution_count": 10,
     "metadata": {},
     "output_type": "execute_result"
    }
   ],
   "source": [
    "df"
   ]
  },
  {
   "cell_type": "code",
   "execution_count": 11,
   "id": "4da333bf-004f-4532-9392-2a6b83c14469",
   "metadata": {},
   "outputs": [
    {
     "data": {
      "text/html": [
       "<div><style>\n",
       ".dataframe > thead > tr,\n",
       ".dataframe > tbody > tr {\n",
       "  text-align: right;\n",
       "  white-space: pre-wrap;\n",
       "}\n",
       "</style>\n",
       "<small>shape: (2, 6)</small><table border=\"1\" class=\"dataframe\"><thead><tr><th>Employee ID</th><th>Name</th><th>Age</th><th>Department</th><th>Salary</th><th>Start Date</th></tr><tr><td>i64</td><td>str</td><td>i64</td><td>str</td><td>f64</td><td>date</td></tr></thead><tbody><tr><td>1</td><td>&quot;Alice&quot;</td><td>29</td><td>&quot;HR&quot;</td><td>50000.0</td><td>2023-05-21</td></tr><tr><td>2</td><td>&quot;Bob&quot;</td><td>34</td><td>&quot;Engineering&quot;</td><td>75000.0</td><td>2019-08-14</td></tr></tbody></table></div>"
      ],
      "text/plain": [
       "shape: (2, 6)\n",
       "┌─────────────┬───────┬─────┬─────────────┬─────────┬────────────┐\n",
       "│ Employee ID ┆ Name  ┆ Age ┆ Department  ┆ Salary  ┆ Start Date │\n",
       "│ ---         ┆ ---   ┆ --- ┆ ---         ┆ ---     ┆ ---        │\n",
       "│ i64         ┆ str   ┆ i64 ┆ str         ┆ f64     ┆ date       │\n",
       "╞═════════════╪═══════╪═════╪═════════════╪═════════╪════════════╡\n",
       "│ 1           ┆ Alice ┆ 29  ┆ HR          ┆ 50000.0 ┆ 2023-05-21 │\n",
       "│ 2           ┆ Bob   ┆ 34  ┆ Engineering ┆ 75000.0 ┆ 2019-08-14 │\n",
       "└─────────────┴───────┴─────┴─────────────┴─────────┴────────────┘"
      ]
     },
     "execution_count": 11,
     "metadata": {},
     "output_type": "execute_result"
    }
   ],
   "source": [
    "df.head(2)"
   ]
  },
  {
   "cell_type": "code",
   "execution_count": 12,
   "id": "9e094255-02be-4be2-b82d-7aff350a3aeb",
   "metadata": {},
   "outputs": [
    {
     "data": {
      "text/html": [
       "<div><style>\n",
       ".dataframe > thead > tr,\n",
       ".dataframe > tbody > tr {\n",
       "  text-align: right;\n",
       "  white-space: pre-wrap;\n",
       "}\n",
       "</style>\n",
       "<small>shape: (2, 6)</small><table border=\"1\" class=\"dataframe\"><thead><tr><th>Employee ID</th><th>Name</th><th>Age</th><th>Department</th><th>Salary</th><th>Start Date</th></tr><tr><td>i64</td><td>str</td><td>i64</td><td>str</td><td>f64</td><td>date</td></tr></thead><tbody><tr><td>4</td><td>&quot;David&quot;</td><td>28</td><td>&quot;HR&quot;</td><td>58000.0</td><td>2018-11-03</td></tr><tr><td>5</td><td>&quot;Eve&quot;</td><td>42</td><td>&quot;Finance&quot;</td><td>85000.0</td><td>2022-06-27</td></tr></tbody></table></div>"
      ],
      "text/plain": [
       "shape: (2, 6)\n",
       "┌─────────────┬───────┬─────┬────────────┬─────────┬────────────┐\n",
       "│ Employee ID ┆ Name  ┆ Age ┆ Department ┆ Salary  ┆ Start Date │\n",
       "│ ---         ┆ ---   ┆ --- ┆ ---        ┆ ---     ┆ ---        │\n",
       "│ i64         ┆ str   ┆ i64 ┆ str        ┆ f64     ┆ date       │\n",
       "╞═════════════╪═══════╪═════╪════════════╪═════════╪════════════╡\n",
       "│ 4           ┆ David ┆ 28  ┆ HR         ┆ 58000.0 ┆ 2018-11-03 │\n",
       "│ 5           ┆ Eve   ┆ 42  ┆ Finance    ┆ 85000.0 ┆ 2022-06-27 │\n",
       "└─────────────┴───────┴─────┴────────────┴─────────┴────────────┘"
      ]
     },
     "execution_count": 12,
     "metadata": {},
     "output_type": "execute_result"
    }
   ],
   "source": [
    "df.tail(2)"
   ]
  },
  {
   "cell_type": "code",
   "execution_count": 13,
   "id": "1b8972fa-c290-4cf7-a42a-433423627e45",
   "metadata": {},
   "outputs": [
    {
     "data": {
      "text/html": [
       "<div><style>\n",
       ".dataframe > thead > tr,\n",
       ".dataframe > tbody > tr {\n",
       "  text-align: right;\n",
       "  white-space: pre-wrap;\n",
       "}\n",
       "</style>\n",
       "<small>shape: (9, 7)</small><table border=\"1\" class=\"dataframe\"><thead><tr><th>statistic</th><th>Employee ID</th><th>Name</th><th>Age</th><th>Department</th><th>Salary</th><th>Start Date</th></tr><tr><td>str</td><td>f64</td><td>str</td><td>f64</td><td>str</td><td>f64</td><td>str</td></tr></thead><tbody><tr><td>&quot;count&quot;</td><td>5.0</td><td>&quot;5&quot;</td><td>5.0</td><td>&quot;5&quot;</td><td>5.0</td><td>&quot;5&quot;</td></tr><tr><td>&quot;null_count&quot;</td><td>0.0</td><td>&quot;0&quot;</td><td>0.0</td><td>&quot;0&quot;</td><td>0.0</td><td>&quot;0&quot;</td></tr><tr><td>&quot;mean&quot;</td><td>3.0</td><td>null</td><td>32.8</td><td>null</td><td>65600.0</td><td>&quot;2021-01-26 00:00:00&quot;</td></tr><tr><td>&quot;std&quot;</td><td>1.581139</td><td>null</td><td>5.630275</td><td>null</td><td>14117.365193</td><td>null</td></tr><tr><td>&quot;min&quot;</td><td>1.0</td><td>&quot;Alice&quot;</td><td>28.0</td><td>&quot;Engineering&quot;</td><td>50000.0</td><td>&quot;2018-11-03&quot;</td></tr><tr><td>&quot;25%&quot;</td><td>2.0</td><td>null</td><td>29.0</td><td>null</td><td>58000.0</td><td>&quot;2019-08-14&quot;</td></tr><tr><td>&quot;50%&quot;</td><td>3.0</td><td>null</td><td>31.0</td><td>null</td><td>60000.0</td><td>&quot;2021-01-10&quot;</td></tr><tr><td>&quot;75%&quot;</td><td>4.0</td><td>null</td><td>34.0</td><td>null</td><td>75000.0</td><td>&quot;2022-06-27&quot;</td></tr><tr><td>&quot;max&quot;</td><td>5.0</td><td>&quot;Eve&quot;</td><td>42.0</td><td>&quot;HR&quot;</td><td>85000.0</td><td>&quot;2023-05-21&quot;</td></tr></tbody></table></div>"
      ],
      "text/plain": [
       "shape: (9, 7)\n",
       "┌────────────┬─────────────┬───────┬──────────┬─────────────┬──────────────┬─────────────────────┐\n",
       "│ statistic  ┆ Employee ID ┆ Name  ┆ Age      ┆ Department  ┆ Salary       ┆ Start Date          │\n",
       "│ ---        ┆ ---         ┆ ---   ┆ ---      ┆ ---         ┆ ---          ┆ ---                 │\n",
       "│ str        ┆ f64         ┆ str   ┆ f64      ┆ str         ┆ f64          ┆ str                 │\n",
       "╞════════════╪═════════════╪═══════╪══════════╪═════════════╪══════════════╪═════════════════════╡\n",
       "│ count      ┆ 5.0         ┆ 5     ┆ 5.0      ┆ 5           ┆ 5.0          ┆ 5                   │\n",
       "│ null_count ┆ 0.0         ┆ 0     ┆ 0.0      ┆ 0           ┆ 0.0          ┆ 0                   │\n",
       "│ mean       ┆ 3.0         ┆ null  ┆ 32.8     ┆ null        ┆ 65600.0      ┆ 2021-01-26 00:00:00 │\n",
       "│ std        ┆ 1.581139    ┆ null  ┆ 5.630275 ┆ null        ┆ 14117.365193 ┆ null                │\n",
       "│ min        ┆ 1.0         ┆ Alice ┆ 28.0     ┆ Engineering ┆ 50000.0      ┆ 2018-11-03          │\n",
       "│ 25%        ┆ 2.0         ┆ null  ┆ 29.0     ┆ null        ┆ 58000.0      ┆ 2019-08-14          │\n",
       "│ 50%        ┆ 3.0         ┆ null  ┆ 31.0     ┆ null        ┆ 60000.0      ┆ 2021-01-10          │\n",
       "│ 75%        ┆ 4.0         ┆ null  ┆ 34.0     ┆ null        ┆ 75000.0      ┆ 2022-06-27          │\n",
       "│ max        ┆ 5.0         ┆ Eve   ┆ 42.0     ┆ HR          ┆ 85000.0      ┆ 2023-05-21          │\n",
       "└────────────┴─────────────┴───────┴──────────┴─────────────┴──────────────┴─────────────────────┘"
      ]
     },
     "execution_count": 13,
     "metadata": {},
     "output_type": "execute_result"
    }
   ],
   "source": [
    "df.describe()"
   ]
  },
  {
   "cell_type": "code",
   "execution_count": 14,
   "id": "c95fcafd-4547-4a3b-b795-3d227a9b7e92",
   "metadata": {},
   "outputs": [
    {
     "data": {
      "text/html": [
       "<div><style>\n",
       ".dataframe > thead > tr,\n",
       ".dataframe > tbody > tr {\n",
       "  text-align: right;\n",
       "  white-space: pre-wrap;\n",
       "}\n",
       "</style>\n",
       "<small>shape: (5, 2)</small><table border=\"1\" class=\"dataframe\"><thead><tr><th>Name</th><th>Age</th></tr><tr><td>str</td><td>i64</td></tr></thead><tbody><tr><td>&quot;Alice&quot;</td><td>29</td></tr><tr><td>&quot;Bob&quot;</td><td>34</td></tr><tr><td>&quot;Charlie&quot;</td><td>31</td></tr><tr><td>&quot;David&quot;</td><td>28</td></tr><tr><td>&quot;Eve&quot;</td><td>42</td></tr></tbody></table></div>"
      ],
      "text/plain": [
       "shape: (5, 2)\n",
       "┌─────────┬─────┐\n",
       "│ Name    ┆ Age │\n",
       "│ ---     ┆ --- │\n",
       "│ str     ┆ i64 │\n",
       "╞═════════╪═════╡\n",
       "│ Alice   ┆ 29  │\n",
       "│ Bob     ┆ 34  │\n",
       "│ Charlie ┆ 31  │\n",
       "│ David   ┆ 28  │\n",
       "│ Eve     ┆ 42  │\n",
       "└─────────┴─────┘"
      ]
     },
     "execution_count": 14,
     "metadata": {},
     "output_type": "execute_result"
    }
   ],
   "source": [
    "df_selected = df.select([\"Name\",\"Age\"])\n",
    "df_selected"
   ]
  },
  {
   "cell_type": "code",
   "execution_count": 15,
   "id": "24bc3568-6866-413a-909b-ec9c06cabf05",
   "metadata": {},
   "outputs": [
    {
     "data": {
      "text/html": [
       "<div><style>\n",
       ".dataframe > thead > tr,\n",
       ".dataframe > tbody > tr {\n",
       "  text-align: right;\n",
       "  white-space: pre-wrap;\n",
       "}\n",
       "</style>\n",
       "<small>shape: (5, 2)</small><table border=\"1\" class=\"dataframe\"><thead><tr><th>Name</th><th>Salary</th></tr><tr><td>str</td><td>f64</td></tr></thead><tbody><tr><td>&quot;Alice&quot;</td><td>50000.0</td></tr><tr><td>&quot;Bob&quot;</td><td>75000.0</td></tr><tr><td>&quot;Charlie&quot;</td><td>60000.0</td></tr><tr><td>&quot;David&quot;</td><td>58000.0</td></tr><tr><td>&quot;Eve&quot;</td><td>85000.0</td></tr></tbody></table></div>"
      ],
      "text/plain": [
       "shape: (5, 2)\n",
       "┌─────────┬─────────┐\n",
       "│ Name    ┆ Salary  │\n",
       "│ ---     ┆ ---     │\n",
       "│ str     ┆ f64     │\n",
       "╞═════════╪═════════╡\n",
       "│ Alice   ┆ 50000.0 │\n",
       "│ Bob     ┆ 75000.0 │\n",
       "│ Charlie ┆ 60000.0 │\n",
       "│ David   ┆ 58000.0 │\n",
       "│ Eve     ┆ 85000.0 │\n",
       "└─────────┴─────────┘"
      ]
     },
     "execution_count": 15,
     "metadata": {},
     "output_type": "execute_result"
    }
   ],
   "source": [
    "df['Name', 'Salary']"
   ]
  },
  {
   "cell_type": "code",
   "execution_count": 16,
   "id": "d59de4e7-5c28-4485-b12c-d4d2a56316f6",
   "metadata": {},
   "outputs": [
    {
     "data": {
      "text/html": [
       "<div><style>\n",
       ".dataframe > thead > tr,\n",
       ".dataframe > tbody > tr {\n",
       "  text-align: right;\n",
       "  white-space: pre-wrap;\n",
       "}\n",
       "</style>\n",
       "<small>shape: (3, 6)</small><table border=\"1\" class=\"dataframe\"><thead><tr><th>Employee ID</th><th>Name</th><th>Age</th><th>Department</th><th>Salary</th><th>Start Date</th></tr><tr><td>i64</td><td>str</td><td>i64</td><td>str</td><td>f64</td><td>date</td></tr></thead><tbody><tr><td>2</td><td>&quot;Bob&quot;</td><td>34</td><td>&quot;Engineering&quot;</td><td>75000.0</td><td>2019-08-14</td></tr><tr><td>3</td><td>&quot;Charlie&quot;</td><td>31</td><td>&quot;Finance&quot;</td><td>60000.0</td><td>2021-01-10</td></tr><tr><td>5</td><td>&quot;Eve&quot;</td><td>42</td><td>&quot;Finance&quot;</td><td>85000.0</td><td>2022-06-27</td></tr></tbody></table></div>"
      ],
      "text/plain": [
       "shape: (3, 6)\n",
       "┌─────────────┬─────────┬─────┬─────────────┬─────────┬────────────┐\n",
       "│ Employee ID ┆ Name    ┆ Age ┆ Department  ┆ Salary  ┆ Start Date │\n",
       "│ ---         ┆ ---     ┆ --- ┆ ---         ┆ ---     ┆ ---        │\n",
       "│ i64         ┆ str     ┆ i64 ┆ str         ┆ f64     ┆ date       │\n",
       "╞═════════════╪═════════╪═════╪═════════════╪═════════╪════════════╡\n",
       "│ 2           ┆ Bob     ┆ 34  ┆ Engineering ┆ 75000.0 ┆ 2019-08-14 │\n",
       "│ 3           ┆ Charlie ┆ 31  ┆ Finance     ┆ 60000.0 ┆ 2021-01-10 │\n",
       "│ 5           ┆ Eve     ┆ 42  ┆ Finance     ┆ 85000.0 ┆ 2022-06-27 │\n",
       "└─────────────┴─────────┴─────┴─────────────┴─────────┴────────────┘"
      ]
     },
     "execution_count": 16,
     "metadata": {},
     "output_type": "execute_result"
    }
   ],
   "source": [
    "df.filter(pl.col(\"Age\") >= 30)"
   ]
  },
  {
   "cell_type": "code",
   "execution_count": 17,
   "id": "fe22e354-c829-4b30-940c-7edecb287280",
   "metadata": {},
   "outputs": [
    {
     "data": {
      "text/html": [
       "<div><style>\n",
       ".dataframe > thead > tr,\n",
       ".dataframe > tbody > tr {\n",
       "  text-align: right;\n",
       "  white-space: pre-wrap;\n",
       "}\n",
       "</style>\n",
       "<small>shape: (2, 6)</small><table border=\"1\" class=\"dataframe\"><thead><tr><th>Employee ID</th><th>Name</th><th>Age</th><th>Department</th><th>Salary</th><th>Start Date</th></tr><tr><td>i64</td><td>str</td><td>i64</td><td>str</td><td>f64</td><td>date</td></tr></thead><tbody><tr><td>3</td><td>&quot;Charlie&quot;</td><td>31</td><td>&quot;Finance&quot;</td><td>60000.0</td><td>2021-01-10</td></tr><tr><td>5</td><td>&quot;Eve&quot;</td><td>42</td><td>&quot;Finance&quot;</td><td>85000.0</td><td>2022-06-27</td></tr></tbody></table></div>"
      ],
      "text/plain": [
       "shape: (2, 6)\n",
       "┌─────────────┬─────────┬─────┬────────────┬─────────┬────────────┐\n",
       "│ Employee ID ┆ Name    ┆ Age ┆ Department ┆ Salary  ┆ Start Date │\n",
       "│ ---         ┆ ---     ┆ --- ┆ ---        ┆ ---     ┆ ---        │\n",
       "│ i64         ┆ str     ┆ i64 ┆ str        ┆ f64     ┆ date       │\n",
       "╞═════════════╪═════════╪═════╪════════════╪═════════╪════════════╡\n",
       "│ 3           ┆ Charlie ┆ 31  ┆ Finance    ┆ 60000.0 ┆ 2021-01-10 │\n",
       "│ 5           ┆ Eve     ┆ 42  ┆ Finance    ┆ 85000.0 ┆ 2022-06-27 │\n",
       "└─────────────┴─────────┴─────┴────────────┴─────────┴────────────┘"
      ]
     },
     "execution_count": 17,
     "metadata": {},
     "output_type": "execute_result"
    }
   ],
   "source": [
    "df.filter(pl.col(\"Department\") == 'Finance')"
   ]
  },
  {
   "cell_type": "code",
   "execution_count": 18,
   "id": "72b00717-841b-458d-8168-333782da6566",
   "metadata": {},
   "outputs": [
    {
     "data": {
      "text/html": [
       "<div><style>\n",
       ".dataframe > thead > tr,\n",
       ".dataframe > tbody > tr {\n",
       "  text-align: right;\n",
       "  white-space: pre-wrap;\n",
       "}\n",
       "</style>\n",
       "<small>shape: (1, 6)</small><table border=\"1\" class=\"dataframe\"><thead><tr><th>Employee ID</th><th>Name</th><th>Age</th><th>Department</th><th>Salary</th><th>Start Date</th></tr><tr><td>i64</td><td>str</td><td>i64</td><td>str</td><td>f64</td><td>date</td></tr></thead><tbody><tr><td>5</td><td>&quot;Eve&quot;</td><td>42</td><td>&quot;Finance&quot;</td><td>85000.0</td><td>2022-06-27</td></tr></tbody></table></div>"
      ],
      "text/plain": [
       "shape: (1, 6)\n",
       "┌─────────────┬──────┬─────┬────────────┬─────────┬────────────┐\n",
       "│ Employee ID ┆ Name ┆ Age ┆ Department ┆ Salary  ┆ Start Date │\n",
       "│ ---         ┆ ---  ┆ --- ┆ ---        ┆ ---     ┆ ---        │\n",
       "│ i64         ┆ str  ┆ i64 ┆ str        ┆ f64     ┆ date       │\n",
       "╞═════════════╪══════╪═════╪════════════╪═════════╪════════════╡\n",
       "│ 5           ┆ Eve  ┆ 42  ┆ Finance    ┆ 85000.0 ┆ 2022-06-27 │\n",
       "└─────────────┴──────┴─────┴────────────┴─────────┴────────────┘"
      ]
     },
     "execution_count": 18,
     "metadata": {},
     "output_type": "execute_result"
    }
   ],
   "source": [
    "df.filter(pl.col(\"Department\") == 'Finance', pl.col(\"Salary\") > 60000)"
   ]
  },
  {
   "cell_type": "code",
   "execution_count": 19,
   "id": "d38125bb-814c-4430-b414-0ace5c0c0039",
   "metadata": {},
   "outputs": [
    {
     "data": {
      "text/html": [
       "<div><style>\n",
       ".dataframe > thead > tr,\n",
       ".dataframe > tbody > tr {\n",
       "  text-align: right;\n",
       "  white-space: pre-wrap;\n",
       "}\n",
       "</style>\n",
       "<small>shape: (1, 6)</small><table border=\"1\" class=\"dataframe\"><thead><tr><th>Employee ID</th><th>Name</th><th>Age</th><th>Department</th><th>Salary</th><th>Start Date</th></tr><tr><td>i64</td><td>str</td><td>i64</td><td>str</td><td>f64</td><td>date</td></tr></thead><tbody><tr><td>5</td><td>&quot;Eve&quot;</td><td>42</td><td>&quot;Finance&quot;</td><td>85000.0</td><td>2022-06-27</td></tr></tbody></table></div>"
      ],
      "text/plain": [
       "shape: (1, 6)\n",
       "┌─────────────┬──────┬─────┬────────────┬─────────┬────────────┐\n",
       "│ Employee ID ┆ Name ┆ Age ┆ Department ┆ Salary  ┆ Start Date │\n",
       "│ ---         ┆ ---  ┆ --- ┆ ---        ┆ ---     ┆ ---        │\n",
       "│ i64         ┆ str  ┆ i64 ┆ str        ┆ f64     ┆ date       │\n",
       "╞═════════════╪══════╪═════╪════════════╪═════════╪════════════╡\n",
       "│ 5           ┆ Eve  ┆ 42  ┆ Finance    ┆ 85000.0 ┆ 2022-06-27 │\n",
       "└─────────────┴──────┴─────┴────────────┴─────────┴────────────┘"
      ]
     },
     "execution_count": 19,
     "metadata": {},
     "output_type": "execute_result"
    }
   ],
   "source": [
    "df.filter(pl.col(\"Department\") == 'Finance', pl.col(\"Start Date\") > date(2022,1,1))"
   ]
  },
  {
   "cell_type": "code",
   "execution_count": 20,
   "id": "d9790a86-d4e2-4568-a646-f5fb5f0bc6bf",
   "metadata": {},
   "outputs": [
    {
     "data": {
      "text/html": [
       "<div><style>\n",
       ".dataframe > thead > tr,\n",
       ".dataframe > tbody > tr {\n",
       "  text-align: right;\n",
       "  white-space: pre-wrap;\n",
       "}\n",
       "</style>\n",
       "<small>shape: (1, 6)</small><table border=\"1\" class=\"dataframe\"><thead><tr><th>Employee ID</th><th>Name</th><th>Age</th><th>Department</th><th>Salary</th><th>Start Date</th></tr><tr><td>i64</td><td>str</td><td>i64</td><td>str</td><td>f64</td><td>date</td></tr></thead><tbody><tr><td>5</td><td>&quot;Eve&quot;</td><td>42</td><td>&quot;Finance&quot;</td><td>85000.0</td><td>2022-06-27</td></tr></tbody></table></div>"
      ],
      "text/plain": [
       "shape: (1, 6)\n",
       "┌─────────────┬──────┬─────┬────────────┬─────────┬────────────┐\n",
       "│ Employee ID ┆ Name ┆ Age ┆ Department ┆ Salary  ┆ Start Date │\n",
       "│ ---         ┆ ---  ┆ --- ┆ ---        ┆ ---     ┆ ---        │\n",
       "│ i64         ┆ str  ┆ i64 ┆ str        ┆ f64     ┆ date       │\n",
       "╞═════════════╪══════╪═════╪════════════╪═════════╪════════════╡\n",
       "│ 5           ┆ Eve  ┆ 42  ┆ Finance    ┆ 85000.0 ┆ 2022-06-27 │\n",
       "└─────────────┴──────┴─────┴────────────┴─────────┴────────────┘"
      ]
     },
     "execution_count": 20,
     "metadata": {},
     "output_type": "execute_result"
    }
   ],
   "source": [
    "df.filter(pl.col(\"Start Date\") > date(2022,1,1), pl.col(\"Start Date\") < date(2023,1,1))"
   ]
  },
  {
   "cell_type": "code",
   "execution_count": 21,
   "id": "3cc5d234-73b4-49f1-b365-fdaa43c84a93",
   "metadata": {},
   "outputs": [
    {
     "data": {
      "text/html": [
       "<div><style>\n",
       ".dataframe > thead > tr,\n",
       ".dataframe > tbody > tr {\n",
       "  text-align: right;\n",
       "  white-space: pre-wrap;\n",
       "}\n",
       "</style>\n",
       "<small>shape: (1, 6)</small><table border=\"1\" class=\"dataframe\"><thead><tr><th>Employee ID</th><th>Name</th><th>Age</th><th>Department</th><th>Salary</th><th>Start Date</th></tr><tr><td>i64</td><td>str</td><td>i64</td><td>str</td><td>f64</td><td>date</td></tr></thead><tbody><tr><td>5</td><td>&quot;Eve&quot;</td><td>42</td><td>&quot;Finance&quot;</td><td>85000.0</td><td>2022-06-27</td></tr></tbody></table></div>"
      ],
      "text/plain": [
       "shape: (1, 6)\n",
       "┌─────────────┬──────┬─────┬────────────┬─────────┬────────────┐\n",
       "│ Employee ID ┆ Name ┆ Age ┆ Department ┆ Salary  ┆ Start Date │\n",
       "│ ---         ┆ ---  ┆ --- ┆ ---        ┆ ---     ┆ ---        │\n",
       "│ i64         ┆ str  ┆ i64 ┆ str        ┆ f64     ┆ date       │\n",
       "╞═════════════╪══════╪═════╪════════════╪═════════╪════════════╡\n",
       "│ 5           ┆ Eve  ┆ 42  ┆ Finance    ┆ 85000.0 ┆ 2022-06-27 │\n",
       "└─────────────┴──────┴─────┴────────────┴─────────┴────────────┘"
      ]
     },
     "execution_count": 21,
     "metadata": {},
     "output_type": "execute_result"
    }
   ],
   "source": [
    "df.filter((pl.col(\"Start Date\") > date(2022,1,1)) & (pl.col(\"Start Date\") < date(2023,1,1)))"
   ]
  },
  {
   "cell_type": "code",
   "execution_count": 22,
   "id": "bf9c1347-4fef-46ca-bcdb-44f4e99676ab",
   "metadata": {},
   "outputs": [
    {
     "data": {
      "text/html": [
       "<div><style>\n",
       ".dataframe > thead > tr,\n",
       ".dataframe > tbody > tr {\n",
       "  text-align: right;\n",
       "  white-space: pre-wrap;\n",
       "}\n",
       "</style>\n",
       "<small>shape: (5, 7)</small><table border=\"1\" class=\"dataframe\"><thead><tr><th>Employee ID</th><th>Name</th><th>Age</th><th>Department</th><th>Salary</th><th>Start Date</th><th>Monthly Earnings</th></tr><tr><td>i64</td><td>str</td><td>i64</td><td>str</td><td>f64</td><td>date</td><td>f64</td></tr></thead><tbody><tr><td>1</td><td>&quot;Alice&quot;</td><td>29</td><td>&quot;HR&quot;</td><td>50000.0</td><td>2023-05-21</td><td>4166.666667</td></tr><tr><td>2</td><td>&quot;Bob&quot;</td><td>34</td><td>&quot;Engineering&quot;</td><td>75000.0</td><td>2019-08-14</td><td>6250.0</td></tr><tr><td>3</td><td>&quot;Charlie&quot;</td><td>31</td><td>&quot;Finance&quot;</td><td>60000.0</td><td>2021-01-10</td><td>5000.0</td></tr><tr><td>4</td><td>&quot;David&quot;</td><td>28</td><td>&quot;HR&quot;</td><td>58000.0</td><td>2018-11-03</td><td>4833.333333</td></tr><tr><td>5</td><td>&quot;Eve&quot;</td><td>42</td><td>&quot;Finance&quot;</td><td>85000.0</td><td>2022-06-27</td><td>7083.333333</td></tr></tbody></table></div>"
      ],
      "text/plain": [
       "shape: (5, 7)\n",
       "┌─────────────┬─────────┬─────┬─────────────┬─────────┬────────────┬──────────────────┐\n",
       "│ Employee ID ┆ Name    ┆ Age ┆ Department  ┆ Salary  ┆ Start Date ┆ Monthly Earnings │\n",
       "│ ---         ┆ ---     ┆ --- ┆ ---         ┆ ---     ┆ ---        ┆ ---              │\n",
       "│ i64         ┆ str     ┆ i64 ┆ str         ┆ f64     ┆ date       ┆ f64              │\n",
       "╞═════════════╪═════════╪═════╪═════════════╪═════════╪════════════╪══════════════════╡\n",
       "│ 1           ┆ Alice   ┆ 29  ┆ HR          ┆ 50000.0 ┆ 2023-05-21 ┆ 4166.666667      │\n",
       "│ 2           ┆ Bob     ┆ 34  ┆ Engineering ┆ 75000.0 ┆ 2019-08-14 ┆ 6250.0           │\n",
       "│ 3           ┆ Charlie ┆ 31  ┆ Finance     ┆ 60000.0 ┆ 2021-01-10 ┆ 5000.0           │\n",
       "│ 4           ┆ David   ┆ 28  ┆ HR          ┆ 58000.0 ┆ 2018-11-03 ┆ 4833.333333      │\n",
       "│ 5           ┆ Eve     ┆ 42  ┆ Finance     ┆ 85000.0 ┆ 2022-06-27 ┆ 7083.333333      │\n",
       "└─────────────┴─────────┴─────┴─────────────┴─────────┴────────────┴──────────────────┘"
      ]
     },
     "execution_count": 22,
     "metadata": {},
     "output_type": "execute_result"
    }
   ],
   "source": [
    "df.with_columns((pl.col('Salary')/12).alias('Monthly Earnings'))"
   ]
  },
  {
   "cell_type": "code",
   "execution_count": 23,
   "id": "e5dbcffa-2738-47db-87a3-6a80d0c6fcc8",
   "metadata": {},
   "outputs": [
    {
     "data": {
      "text/html": [
       "<div><style>\n",
       ".dataframe > thead > tr,\n",
       ".dataframe > tbody > tr {\n",
       "  text-align: right;\n",
       "  white-space: pre-wrap;\n",
       "}\n",
       "</style>\n",
       "<small>shape: (5, 7)</small><table border=\"1\" class=\"dataframe\"><thead><tr><th>Employee ID</th><th>Name</th><th>Age</th><th>Department</th><th>Salary</th><th>Start Date</th><th>Monthly Earnings</th></tr><tr><td>i64</td><td>str</td><td>i64</td><td>str</td><td>f64</td><td>date</td><td>f64</td></tr></thead><tbody><tr><td>1</td><td>&quot;Alice&quot;</td><td>29</td><td>&quot;HR&quot;</td><td>50000.0</td><td>2023-05-21</td><td>4166.67</td></tr><tr><td>2</td><td>&quot;Bob&quot;</td><td>34</td><td>&quot;Engineering&quot;</td><td>75000.0</td><td>2019-08-14</td><td>6250.0</td></tr><tr><td>3</td><td>&quot;Charlie&quot;</td><td>31</td><td>&quot;Finance&quot;</td><td>60000.0</td><td>2021-01-10</td><td>5000.0</td></tr><tr><td>4</td><td>&quot;David&quot;</td><td>28</td><td>&quot;HR&quot;</td><td>58000.0</td><td>2018-11-03</td><td>4833.33</td></tr><tr><td>5</td><td>&quot;Eve&quot;</td><td>42</td><td>&quot;Finance&quot;</td><td>85000.0</td><td>2022-06-27</td><td>7083.33</td></tr></tbody></table></div>"
      ],
      "text/plain": [
       "shape: (5, 7)\n",
       "┌─────────────┬─────────┬─────┬─────────────┬─────────┬────────────┬──────────────────┐\n",
       "│ Employee ID ┆ Name    ┆ Age ┆ Department  ┆ Salary  ┆ Start Date ┆ Monthly Earnings │\n",
       "│ ---         ┆ ---     ┆ --- ┆ ---         ┆ ---     ┆ ---        ┆ ---              │\n",
       "│ i64         ┆ str     ┆ i64 ┆ str         ┆ f64     ┆ date       ┆ f64              │\n",
       "╞═════════════╪═════════╪═════╪═════════════╪═════════╪════════════╪══════════════════╡\n",
       "│ 1           ┆ Alice   ┆ 29  ┆ HR          ┆ 50000.0 ┆ 2023-05-21 ┆ 4166.67          │\n",
       "│ 2           ┆ Bob     ┆ 34  ┆ Engineering ┆ 75000.0 ┆ 2019-08-14 ┆ 6250.0           │\n",
       "│ 3           ┆ Charlie ┆ 31  ┆ Finance     ┆ 60000.0 ┆ 2021-01-10 ┆ 5000.0           │\n",
       "│ 4           ┆ David   ┆ 28  ┆ HR          ┆ 58000.0 ┆ 2018-11-03 ┆ 4833.33          │\n",
       "│ 5           ┆ Eve     ┆ 42  ┆ Finance     ┆ 85000.0 ┆ 2022-06-27 ┆ 7083.33          │\n",
       "└─────────────┴─────────┴─────┴─────────────┴─────────┴────────────┴──────────────────┘"
      ]
     },
     "execution_count": 23,
     "metadata": {},
     "output_type": "execute_result"
    }
   ],
   "source": [
    "df.with_columns((pl.col('Salary')/12).round(2).alias('Monthly Earnings'))"
   ]
  },
  {
   "cell_type": "code",
   "execution_count": 24,
   "id": "b5e8250e-de69-470c-8d98-944b657e52db",
   "metadata": {},
   "outputs": [],
   "source": [
    "df = df.with_columns((pl.col('Salary')/12).round(2).alias('Monthly Earnings'))"
   ]
  },
  {
   "cell_type": "code",
   "execution_count": 25,
   "id": "827037dd-1759-4ad2-924a-0079cbb96325",
   "metadata": {},
   "outputs": [
    {
     "data": {
      "text/html": [
       "<div><style>\n",
       ".dataframe > thead > tr,\n",
       ".dataframe > tbody > tr {\n",
       "  text-align: right;\n",
       "  white-space: pre-wrap;\n",
       "}\n",
       "</style>\n",
       "<small>shape: (5, 7)</small><table border=\"1\" class=\"dataframe\"><thead><tr><th>Employee ID</th><th>Name</th><th>Age</th><th>Department</th><th>Salary</th><th>Start Date</th><th>Monthly Earnings</th></tr><tr><td>i64</td><td>str</td><td>i64</td><td>str</td><td>f64</td><td>date</td><td>f64</td></tr></thead><tbody><tr><td>1</td><td>&quot;Alice&quot;</td><td>29</td><td>&quot;HR&quot;</td><td>50000.0</td><td>2023-05-21</td><td>4166.67</td></tr><tr><td>2</td><td>&quot;Bob&quot;</td><td>34</td><td>&quot;Engineering&quot;</td><td>75000.0</td><td>2019-08-14</td><td>6250.0</td></tr><tr><td>3</td><td>&quot;Charlie&quot;</td><td>31</td><td>&quot;Finance&quot;</td><td>60000.0</td><td>2021-01-10</td><td>5000.0</td></tr><tr><td>4</td><td>&quot;David&quot;</td><td>28</td><td>&quot;HR&quot;</td><td>58000.0</td><td>2018-11-03</td><td>4833.33</td></tr><tr><td>5</td><td>&quot;Eve&quot;</td><td>42</td><td>&quot;Finance&quot;</td><td>85000.0</td><td>2022-06-27</td><td>7083.33</td></tr></tbody></table></div>"
      ],
      "text/plain": [
       "shape: (5, 7)\n",
       "┌─────────────┬─────────┬─────┬─────────────┬─────────┬────────────┬──────────────────┐\n",
       "│ Employee ID ┆ Name    ┆ Age ┆ Department  ┆ Salary  ┆ Start Date ┆ Monthly Earnings │\n",
       "│ ---         ┆ ---     ┆ --- ┆ ---         ┆ ---     ┆ ---        ┆ ---              │\n",
       "│ i64         ┆ str     ┆ i64 ┆ str         ┆ f64     ┆ date       ┆ f64              │\n",
       "╞═════════════╪═════════╪═════╪═════════════╪═════════╪════════════╪══════════════════╡\n",
       "│ 1           ┆ Alice   ┆ 29  ┆ HR          ┆ 50000.0 ┆ 2023-05-21 ┆ 4166.67          │\n",
       "│ 2           ┆ Bob     ┆ 34  ┆ Engineering ┆ 75000.0 ┆ 2019-08-14 ┆ 6250.0           │\n",
       "│ 3           ┆ Charlie ┆ 31  ┆ Finance     ┆ 60000.0 ┆ 2021-01-10 ┆ 5000.0           │\n",
       "│ 4           ┆ David   ┆ 28  ┆ HR          ┆ 58000.0 ┆ 2018-11-03 ┆ 4833.33          │\n",
       "│ 5           ┆ Eve     ┆ 42  ┆ Finance     ┆ 85000.0 ┆ 2022-06-27 ┆ 7083.33          │\n",
       "└─────────────┴─────────┴─────┴─────────────┴─────────┴────────────┴──────────────────┘"
      ]
     },
     "execution_count": 25,
     "metadata": {},
     "output_type": "execute_result"
    }
   ],
   "source": [
    "df"
   ]
  },
  {
   "cell_type": "code",
   "execution_count": 26,
   "id": "56983c33-5fcb-4627-866d-44c5d06435ae",
   "metadata": {},
   "outputs": [
    {
     "data": {
      "text/html": [
       "<div><style>\n",
       ".dataframe > thead > tr,\n",
       ".dataframe > tbody > tr {\n",
       "  text-align: right;\n",
       "  white-space: pre-wrap;\n",
       "}\n",
       "</style>\n",
       "<small>shape: (5, 6)</small><table border=\"1\" class=\"dataframe\"><thead><tr><th>Employee ID</th><th>Name</th><th>Age</th><th>Department</th><th>Salary</th><th>Start Date</th></tr><tr><td>i64</td><td>str</td><td>i64</td><td>str</td><td>f64</td><td>date</td></tr></thead><tbody><tr><td>1</td><td>&quot;Alice&quot;</td><td>29</td><td>&quot;HR&quot;</td><td>50000.0</td><td>2023-05-21</td></tr><tr><td>2</td><td>&quot;Bob&quot;</td><td>34</td><td>&quot;Engineering&quot;</td><td>75000.0</td><td>2019-08-14</td></tr><tr><td>3</td><td>&quot;Charlie&quot;</td><td>31</td><td>&quot;Finance&quot;</td><td>60000.0</td><td>2021-01-10</td></tr><tr><td>4</td><td>&quot;David&quot;</td><td>28</td><td>&quot;HR&quot;</td><td>58000.0</td><td>2018-11-03</td></tr><tr><td>5</td><td>&quot;Eve&quot;</td><td>42</td><td>&quot;Finance&quot;</td><td>85000.0</td><td>2022-06-27</td></tr></tbody></table></div>"
      ],
      "text/plain": [
       "shape: (5, 6)\n",
       "┌─────────────┬─────────┬─────┬─────────────┬─────────┬────────────┐\n",
       "│ Employee ID ┆ Name    ┆ Age ┆ Department  ┆ Salary  ┆ Start Date │\n",
       "│ ---         ┆ ---     ┆ --- ┆ ---         ┆ ---     ┆ ---        │\n",
       "│ i64         ┆ str     ┆ i64 ┆ str         ┆ f64     ┆ date       │\n",
       "╞═════════════╪═════════╪═════╪═════════════╪═════════╪════════════╡\n",
       "│ 1           ┆ Alice   ┆ 29  ┆ HR          ┆ 50000.0 ┆ 2023-05-21 │\n",
       "│ 2           ┆ Bob     ┆ 34  ┆ Engineering ┆ 75000.0 ┆ 2019-08-14 │\n",
       "│ 3           ┆ Charlie ┆ 31  ┆ Finance     ┆ 60000.0 ┆ 2021-01-10 │\n",
       "│ 4           ┆ David   ┆ 28  ┆ HR          ┆ 58000.0 ┆ 2018-11-03 │\n",
       "│ 5           ┆ Eve     ┆ 42  ┆ Finance     ┆ 85000.0 ┆ 2022-06-27 │\n",
       "└─────────────┴─────────┴─────┴─────────────┴─────────┴────────────┘"
      ]
     },
     "execution_count": 26,
     "metadata": {},
     "output_type": "execute_result"
    }
   ],
   "source": [
    "df = df.drop('Monthly Earnings')\n",
    "df"
   ]
  },
  {
   "cell_type": "code",
   "execution_count": 27,
   "id": "5a3e3711-2d68-4498-aac7-87d7454eb5e2",
   "metadata": {},
   "outputs": [
    {
     "data": {
      "text/html": [
       "<div><style>\n",
       ".dataframe > thead > tr,\n",
       ".dataframe > tbody > tr {\n",
       "  text-align: right;\n",
       "  white-space: pre-wrap;\n",
       "}\n",
       "</style>\n",
       "<small>shape: (5, 6)</small><table border=\"1\" class=\"dataframe\"><thead><tr><th>Employee ID</th><th>Name</th><th>Age</th><th>Department</th><th>Salary</th><th>Start Date</th></tr><tr><td>i64</td><td>str</td><td>i64</td><td>str</td><td>f64</td><td>date</td></tr></thead><tbody><tr><td>1</td><td>&quot;Alice&quot;</td><td>29</td><td>&quot;HR&quot;</td><td>50000.0</td><td>2023-05-21</td></tr><tr><td>4</td><td>&quot;David&quot;</td><td>28</td><td>&quot;HR&quot;</td><td>58000.0</td><td>2018-11-03</td></tr><tr><td>3</td><td>&quot;Charlie&quot;</td><td>31</td><td>&quot;Finance&quot;</td><td>60000.0</td><td>2021-01-10</td></tr><tr><td>2</td><td>&quot;Bob&quot;</td><td>34</td><td>&quot;Engineering&quot;</td><td>75000.0</td><td>2019-08-14</td></tr><tr><td>5</td><td>&quot;Eve&quot;</td><td>42</td><td>&quot;Finance&quot;</td><td>85000.0</td><td>2022-06-27</td></tr></tbody></table></div>"
      ],
      "text/plain": [
       "shape: (5, 6)\n",
       "┌─────────────┬─────────┬─────┬─────────────┬─────────┬────────────┐\n",
       "│ Employee ID ┆ Name    ┆ Age ┆ Department  ┆ Salary  ┆ Start Date │\n",
       "│ ---         ┆ ---     ┆ --- ┆ ---         ┆ ---     ┆ ---        │\n",
       "│ i64         ┆ str     ┆ i64 ┆ str         ┆ f64     ┆ date       │\n",
       "╞═════════════╪═════════╪═════╪═════════════╪═════════╪════════════╡\n",
       "│ 1           ┆ Alice   ┆ 29  ┆ HR          ┆ 50000.0 ┆ 2023-05-21 │\n",
       "│ 4           ┆ David   ┆ 28  ┆ HR          ┆ 58000.0 ┆ 2018-11-03 │\n",
       "│ 3           ┆ Charlie ┆ 31  ┆ Finance     ┆ 60000.0 ┆ 2021-01-10 │\n",
       "│ 2           ┆ Bob     ┆ 34  ┆ Engineering ┆ 75000.0 ┆ 2019-08-14 │\n",
       "│ 5           ┆ Eve     ┆ 42  ┆ Finance     ┆ 85000.0 ┆ 2022-06-27 │\n",
       "└─────────────┴─────────┴─────┴─────────────┴─────────┴────────────┘"
      ]
     },
     "execution_count": 27,
     "metadata": {},
     "output_type": "execute_result"
    }
   ],
   "source": [
    "df.sort(\"Salary\")"
   ]
  },
  {
   "cell_type": "code",
   "execution_count": 28,
   "id": "2484e071-6d9e-48d3-82bc-f899dfe6a565",
   "metadata": {},
   "outputs": [
    {
     "data": {
      "text/html": [
       "<div><style>\n",
       ".dataframe > thead > tr,\n",
       ".dataframe > tbody > tr {\n",
       "  text-align: right;\n",
       "  white-space: pre-wrap;\n",
       "}\n",
       "</style>\n",
       "<small>shape: (5, 6)</small><table border=\"1\" class=\"dataframe\"><thead><tr><th>Employee ID</th><th>Name</th><th>Age</th><th>Department</th><th>Salary</th><th>Start Date</th></tr><tr><td>i64</td><td>str</td><td>i64</td><td>str</td><td>f64</td><td>date</td></tr></thead><tbody><tr><td>5</td><td>&quot;Eve&quot;</td><td>42</td><td>&quot;Finance&quot;</td><td>85000.0</td><td>2022-06-27</td></tr><tr><td>2</td><td>&quot;Bob&quot;</td><td>34</td><td>&quot;Engineering&quot;</td><td>75000.0</td><td>2019-08-14</td></tr><tr><td>3</td><td>&quot;Charlie&quot;</td><td>31</td><td>&quot;Finance&quot;</td><td>60000.0</td><td>2021-01-10</td></tr><tr><td>4</td><td>&quot;David&quot;</td><td>28</td><td>&quot;HR&quot;</td><td>58000.0</td><td>2018-11-03</td></tr><tr><td>1</td><td>&quot;Alice&quot;</td><td>29</td><td>&quot;HR&quot;</td><td>50000.0</td><td>2023-05-21</td></tr></tbody></table></div>"
      ],
      "text/plain": [
       "shape: (5, 6)\n",
       "┌─────────────┬─────────┬─────┬─────────────┬─────────┬────────────┐\n",
       "│ Employee ID ┆ Name    ┆ Age ┆ Department  ┆ Salary  ┆ Start Date │\n",
       "│ ---         ┆ ---     ┆ --- ┆ ---         ┆ ---     ┆ ---        │\n",
       "│ i64         ┆ str     ┆ i64 ┆ str         ┆ f64     ┆ date       │\n",
       "╞═════════════╪═════════╪═════╪═════════════╪═════════╪════════════╡\n",
       "│ 5           ┆ Eve     ┆ 42  ┆ Finance     ┆ 85000.0 ┆ 2022-06-27 │\n",
       "│ 2           ┆ Bob     ┆ 34  ┆ Engineering ┆ 75000.0 ┆ 2019-08-14 │\n",
       "│ 3           ┆ Charlie ┆ 31  ┆ Finance     ┆ 60000.0 ┆ 2021-01-10 │\n",
       "│ 4           ┆ David   ┆ 28  ┆ HR          ┆ 58000.0 ┆ 2018-11-03 │\n",
       "│ 1           ┆ Alice   ┆ 29  ┆ HR          ┆ 50000.0 ┆ 2023-05-21 │\n",
       "└─────────────┴─────────┴─────┴─────────────┴─────────┴────────────┘"
      ]
     },
     "execution_count": 28,
     "metadata": {},
     "output_type": "execute_result"
    }
   ],
   "source": [
    "df.sort(\"Salary\", descending = True)"
   ]
  },
  {
   "cell_type": "code",
   "execution_count": 29,
   "id": "77ce50f4-6cb4-47a6-b2e3-a2437adec635",
   "metadata": {},
   "outputs": [
    {
     "data": {
      "text/html": [
       "<div><style>\n",
       ".dataframe > thead > tr,\n",
       ".dataframe > tbody > tr {\n",
       "  text-align: right;\n",
       "  white-space: pre-wrap;\n",
       "}\n",
       "</style>\n",
       "<small>shape: (5, 6)</small><table border=\"1\" class=\"dataframe\"><thead><tr><th>Employee ID</th><th>Name</th><th>Age</th><th>Department</th><th>Salary</th><th>Start Date</th></tr><tr><td>i64</td><td>str</td><td>i64</td><td>str</td><td>f64</td><td>date</td></tr></thead><tbody><tr><td>1</td><td>&quot;Alice&quot;</td><td>29</td><td>&quot;HR&quot;</td><td>50000.0</td><td>2023-05-21</td></tr><tr><td>5</td><td>&quot;Eve&quot;</td><td>42</td><td>&quot;Finance&quot;</td><td>85000.0</td><td>2022-06-27</td></tr><tr><td>3</td><td>&quot;Charlie&quot;</td><td>31</td><td>&quot;Finance&quot;</td><td>60000.0</td><td>2021-01-10</td></tr><tr><td>2</td><td>&quot;Bob&quot;</td><td>34</td><td>&quot;Engineering&quot;</td><td>75000.0</td><td>2019-08-14</td></tr><tr><td>4</td><td>&quot;David&quot;</td><td>28</td><td>&quot;HR&quot;</td><td>58000.0</td><td>2018-11-03</td></tr></tbody></table></div>"
      ],
      "text/plain": [
       "shape: (5, 6)\n",
       "┌─────────────┬─────────┬─────┬─────────────┬─────────┬────────────┐\n",
       "│ Employee ID ┆ Name    ┆ Age ┆ Department  ┆ Salary  ┆ Start Date │\n",
       "│ ---         ┆ ---     ┆ --- ┆ ---         ┆ ---     ┆ ---        │\n",
       "│ i64         ┆ str     ┆ i64 ┆ str         ┆ f64     ┆ date       │\n",
       "╞═════════════╪═════════╪═════╪═════════════╪═════════╪════════════╡\n",
       "│ 1           ┆ Alice   ┆ 29  ┆ HR          ┆ 50000.0 ┆ 2023-05-21 │\n",
       "│ 5           ┆ Eve     ┆ 42  ┆ Finance     ┆ 85000.0 ┆ 2022-06-27 │\n",
       "│ 3           ┆ Charlie ┆ 31  ┆ Finance     ┆ 60000.0 ┆ 2021-01-10 │\n",
       "│ 2           ┆ Bob     ┆ 34  ┆ Engineering ┆ 75000.0 ┆ 2019-08-14 │\n",
       "│ 4           ┆ David   ┆ 28  ┆ HR          ┆ 58000.0 ┆ 2018-11-03 │\n",
       "└─────────────┴─────────┴─────┴─────────────┴─────────┴────────────┘"
      ]
     },
     "execution_count": 29,
     "metadata": {},
     "output_type": "execute_result"
    }
   ],
   "source": [
    "df.sort(\"Start Date\", descending = True)"
   ]
  },
  {
   "cell_type": "code",
   "execution_count": 30,
   "id": "e0485057-e3aa-4329-a904-56323755fe1e",
   "metadata": {},
   "outputs": [
    {
     "data": {
      "text/plain": [
       "85000.0"
      ]
     },
     "execution_count": 30,
     "metadata": {},
     "output_type": "execute_result"
    }
   ],
   "source": [
    "df['Salary'].max()"
   ]
  },
  {
   "cell_type": "code",
   "execution_count": 31,
   "id": "e131e7d0-1f5a-469b-9d0b-33d46536abde",
   "metadata": {},
   "outputs": [
    {
     "data": {
      "text/plain": [
       "31.0"
      ]
     },
     "execution_count": 31,
     "metadata": {},
     "output_type": "execute_result"
    }
   ],
   "source": [
    "df['Age'].median()"
   ]
  },
  {
   "cell_type": "code",
   "execution_count": 32,
   "id": "b6d6dc52-b215-4703-a22d-292c524c534f",
   "metadata": {},
   "outputs": [
    {
     "data": {
      "text/plain": [
       "85000.0"
      ]
     },
     "execution_count": 32,
     "metadata": {},
     "output_type": "execute_result"
    }
   ],
   "source": [
    "df.filter(pl.col('Age') > 30)['Salary'].max()"
   ]
  },
  {
   "cell_type": "code",
   "execution_count": 33,
   "id": "043ceddc-1cde-45b9-b911-d94ae916c750",
   "metadata": {},
   "outputs": [
    {
     "data": {
      "text/plain": [
       "60000.0"
      ]
     },
     "execution_count": 33,
     "metadata": {},
     "output_type": "execute_result"
    }
   ],
   "source": [
    "df.filter(pl.col('Age') > 30)['Salary'].min()"
   ]
  },
  {
   "cell_type": "code",
   "execution_count": 34,
   "id": "20fd79cb-f1e9-41bc-9c07-5286c3c46b20",
   "metadata": {},
   "outputs": [
    {
     "data": {
      "text/html": [
       "<div><style>\n",
       ".dataframe > thead > tr,\n",
       ".dataframe > tbody > tr {\n",
       "  text-align: right;\n",
       "  white-space: pre-wrap;\n",
       "}\n",
       "</style>\n",
       "<small>shape: (3, 3)</small><table border=\"1\" class=\"dataframe\"><thead><tr><th>Department</th><th>Average Salary</th><th>Youngest Age</th></tr><tr><td>str</td><td>f64</td><td>i64</td></tr></thead><tbody><tr><td>&quot;HR&quot;</td><td>54000.0</td><td>28</td></tr><tr><td>&quot;Finance&quot;</td><td>72500.0</td><td>31</td></tr><tr><td>&quot;Engineering&quot;</td><td>75000.0</td><td>34</td></tr></tbody></table></div>"
      ],
      "text/plain": [
       "shape: (3, 3)\n",
       "┌─────────────┬────────────────┬──────────────┐\n",
       "│ Department  ┆ Average Salary ┆ Youngest Age │\n",
       "│ ---         ┆ ---            ┆ ---          │\n",
       "│ str         ┆ f64            ┆ i64          │\n",
       "╞═════════════╪════════════════╪══════════════╡\n",
       "│ HR          ┆ 54000.0        ┆ 28           │\n",
       "│ Finance     ┆ 72500.0        ┆ 31           │\n",
       "│ Engineering ┆ 75000.0        ┆ 34           │\n",
       "└─────────────┴────────────────┴──────────────┘"
      ]
     },
     "execution_count": 34,
     "metadata": {},
     "output_type": "execute_result"
    }
   ],
   "source": [
    "df.group_by('Department').agg([\n",
    "    pl.col('Salary').mean().alias('Average Salary'),\n",
    "    pl.col('Age').min().alias(\"Youngest Age\")\n",
    "])"
   ]
  },
  {
   "cell_type": "code",
   "execution_count": 35,
   "id": "ae80aaca-ee6f-4564-91a0-0a0304cb38e3",
   "metadata": {},
   "outputs": [],
   "source": [
    "df = pl.DataFrame({\n",
    "    \"Employee ID\": [1,2,3,4,5],\n",
    "    \"Name\": [\"Alice\",\"Bob\",\"Charlie\",\"David\",\"Eve\"],\n",
    "    \"Age\": [29, 34, 31, 28, 42],\n",
    "    \"Department\": [\"HR\", \"Engineering\", \"Finance\", \"HR\", \"Finance\"],\n",
    "    \"Salary\": [50000.0, 75000.0, None, None, 85000.0],\n",
    "    \"Start Date\": [date(2023,5,21), date(2019,8,14), date(2021,1,10), date(2018,11,3), date(2022,6,27)]\n",
    "})"
   ]
  },
  {
   "cell_type": "code",
   "execution_count": 36,
   "id": "e962033b-3da3-4c08-bdce-e5f69e709d53",
   "metadata": {},
   "outputs": [
    {
     "data": {
      "text/html": [
       "<div><style>\n",
       ".dataframe > thead > tr,\n",
       ".dataframe > tbody > tr {\n",
       "  text-align: right;\n",
       "  white-space: pre-wrap;\n",
       "}\n",
       "</style>\n",
       "<small>shape: (5, 6)</small><table border=\"1\" class=\"dataframe\"><thead><tr><th>Employee ID</th><th>Name</th><th>Age</th><th>Department</th><th>Salary</th><th>Start Date</th></tr><tr><td>i64</td><td>str</td><td>i64</td><td>str</td><td>f64</td><td>date</td></tr></thead><tbody><tr><td>1</td><td>&quot;Alice&quot;</td><td>29</td><td>&quot;HR&quot;</td><td>50000.0</td><td>2023-05-21</td></tr><tr><td>2</td><td>&quot;Bob&quot;</td><td>34</td><td>&quot;Engineering&quot;</td><td>75000.0</td><td>2019-08-14</td></tr><tr><td>3</td><td>&quot;Charlie&quot;</td><td>31</td><td>&quot;Finance&quot;</td><td>null</td><td>2021-01-10</td></tr><tr><td>4</td><td>&quot;David&quot;</td><td>28</td><td>&quot;HR&quot;</td><td>null</td><td>2018-11-03</td></tr><tr><td>5</td><td>&quot;Eve&quot;</td><td>42</td><td>&quot;Finance&quot;</td><td>85000.0</td><td>2022-06-27</td></tr></tbody></table></div>"
      ],
      "text/plain": [
       "shape: (5, 6)\n",
       "┌─────────────┬─────────┬─────┬─────────────┬─────────┬────────────┐\n",
       "│ Employee ID ┆ Name    ┆ Age ┆ Department  ┆ Salary  ┆ Start Date │\n",
       "│ ---         ┆ ---     ┆ --- ┆ ---         ┆ ---     ┆ ---        │\n",
       "│ i64         ┆ str     ┆ i64 ┆ str         ┆ f64     ┆ date       │\n",
       "╞═════════════╪═════════╪═════╪═════════════╪═════════╪════════════╡\n",
       "│ 1           ┆ Alice   ┆ 29  ┆ HR          ┆ 50000.0 ┆ 2023-05-21 │\n",
       "│ 2           ┆ Bob     ┆ 34  ┆ Engineering ┆ 75000.0 ┆ 2019-08-14 │\n",
       "│ 3           ┆ Charlie ┆ 31  ┆ Finance     ┆ null    ┆ 2021-01-10 │\n",
       "│ 4           ┆ David   ┆ 28  ┆ HR          ┆ null    ┆ 2018-11-03 │\n",
       "│ 5           ┆ Eve     ┆ 42  ┆ Finance     ┆ 85000.0 ┆ 2022-06-27 │\n",
       "└─────────────┴─────────┴─────┴─────────────┴─────────┴────────────┘"
      ]
     },
     "execution_count": 36,
     "metadata": {},
     "output_type": "execute_result"
    }
   ],
   "source": [
    "df"
   ]
  },
  {
   "cell_type": "code",
   "execution_count": 37,
   "id": "c7b0d667-854d-4f03-8cb7-3d58791ce076",
   "metadata": {},
   "outputs": [
    {
     "data": {
      "text/html": [
       "<div><style>\n",
       ".dataframe > thead > tr,\n",
       ".dataframe > tbody > tr {\n",
       "  text-align: right;\n",
       "  white-space: pre-wrap;\n",
       "}\n",
       "</style>\n",
       "<small>shape: (5, 1)</small><table border=\"1\" class=\"dataframe\"><thead><tr><th>Salary</th></tr><tr><td>bool</td></tr></thead><tbody><tr><td>false</td></tr><tr><td>false</td></tr><tr><td>true</td></tr><tr><td>true</td></tr><tr><td>false</td></tr></tbody></table></div>"
      ],
      "text/plain": [
       "shape: (5, 1)\n",
       "┌────────┐\n",
       "│ Salary │\n",
       "│ ---    │\n",
       "│ bool   │\n",
       "╞════════╡\n",
       "│ false  │\n",
       "│ false  │\n",
       "│ true   │\n",
       "│ true   │\n",
       "│ false  │\n",
       "└────────┘"
      ]
     },
     "execution_count": 37,
     "metadata": {},
     "output_type": "execute_result"
    }
   ],
   "source": [
    "df.select(pl.col('Salary').is_null())"
   ]
  },
  {
   "cell_type": "code",
   "execution_count": 38,
   "id": "4d9a723c-a144-405a-b330-0f7f3bb0aa92",
   "metadata": {},
   "outputs": [
    {
     "data": {
      "text/html": [
       "<div><style>\n",
       ".dataframe > thead > tr,\n",
       ".dataframe > tbody > tr {\n",
       "  text-align: right;\n",
       "  white-space: pre-wrap;\n",
       "}\n",
       "</style>\n",
       "<small>shape: (2, 6)</small><table border=\"1\" class=\"dataframe\"><thead><tr><th>Employee ID</th><th>Name</th><th>Age</th><th>Department</th><th>Salary</th><th>Start Date</th></tr><tr><td>i64</td><td>str</td><td>i64</td><td>str</td><td>f64</td><td>date</td></tr></thead><tbody><tr><td>3</td><td>&quot;Charlie&quot;</td><td>31</td><td>&quot;Finance&quot;</td><td>null</td><td>2021-01-10</td></tr><tr><td>4</td><td>&quot;David&quot;</td><td>28</td><td>&quot;HR&quot;</td><td>null</td><td>2018-11-03</td></tr></tbody></table></div>"
      ],
      "text/plain": [
       "shape: (2, 6)\n",
       "┌─────────────┬─────────┬─────┬────────────┬────────┬────────────┐\n",
       "│ Employee ID ┆ Name    ┆ Age ┆ Department ┆ Salary ┆ Start Date │\n",
       "│ ---         ┆ ---     ┆ --- ┆ ---        ┆ ---    ┆ ---        │\n",
       "│ i64         ┆ str     ┆ i64 ┆ str        ┆ f64    ┆ date       │\n",
       "╞═════════════╪═════════╪═════╪════════════╪════════╪════════════╡\n",
       "│ 3           ┆ Charlie ┆ 31  ┆ Finance    ┆ null   ┆ 2021-01-10 │\n",
       "│ 4           ┆ David   ┆ 28  ┆ HR         ┆ null   ┆ 2018-11-03 │\n",
       "└─────────────┴─────────┴─────┴────────────┴────────┴────────────┘"
      ]
     },
     "execution_count": 38,
     "metadata": {},
     "output_type": "execute_result"
    }
   ],
   "source": [
    "df.filter(pl.col('Salary').is_null())"
   ]
  },
  {
   "cell_type": "code",
   "execution_count": 39,
   "id": "3280cec0-09b0-40bf-a2c3-25ef9002b5a6",
   "metadata": {},
   "outputs": [
    {
     "data": {
      "text/html": [
       "<div><style>\n",
       ".dataframe > thead > tr,\n",
       ".dataframe > tbody > tr {\n",
       "  text-align: right;\n",
       "  white-space: pre-wrap;\n",
       "}\n",
       "</style>\n",
       "<small>shape: (3, 6)</small><table border=\"1\" class=\"dataframe\"><thead><tr><th>Employee ID</th><th>Name</th><th>Age</th><th>Department</th><th>Salary</th><th>Start Date</th></tr><tr><td>i64</td><td>str</td><td>i64</td><td>str</td><td>f64</td><td>date</td></tr></thead><tbody><tr><td>1</td><td>&quot;Alice&quot;</td><td>29</td><td>&quot;HR&quot;</td><td>50000.0</td><td>2023-05-21</td></tr><tr><td>2</td><td>&quot;Bob&quot;</td><td>34</td><td>&quot;Engineering&quot;</td><td>75000.0</td><td>2019-08-14</td></tr><tr><td>5</td><td>&quot;Eve&quot;</td><td>42</td><td>&quot;Finance&quot;</td><td>85000.0</td><td>2022-06-27</td></tr></tbody></table></div>"
      ],
      "text/plain": [
       "shape: (3, 6)\n",
       "┌─────────────┬───────┬─────┬─────────────┬─────────┬────────────┐\n",
       "│ Employee ID ┆ Name  ┆ Age ┆ Department  ┆ Salary  ┆ Start Date │\n",
       "│ ---         ┆ ---   ┆ --- ┆ ---         ┆ ---     ┆ ---        │\n",
       "│ i64         ┆ str   ┆ i64 ┆ str         ┆ f64     ┆ date       │\n",
       "╞═════════════╪═══════╪═════╪═════════════╪═════════╪════════════╡\n",
       "│ 1           ┆ Alice ┆ 29  ┆ HR          ┆ 50000.0 ┆ 2023-05-21 │\n",
       "│ 2           ┆ Bob   ┆ 34  ┆ Engineering ┆ 75000.0 ┆ 2019-08-14 │\n",
       "│ 5           ┆ Eve   ┆ 42  ┆ Finance     ┆ 85000.0 ┆ 2022-06-27 │\n",
       "└─────────────┴───────┴─────┴─────────────┴─────────┴────────────┘"
      ]
     },
     "execution_count": 39,
     "metadata": {},
     "output_type": "execute_result"
    }
   ],
   "source": [
    "df.filter(pl.col('Salary').is_not_null())"
   ]
  },
  {
   "cell_type": "code",
   "execution_count": 40,
   "id": "bccd4493-f6a4-42c1-bd67-9bcc36942753",
   "metadata": {},
   "outputs": [
    {
     "data": {
      "text/html": [
       "<div><style>\n",
       ".dataframe > thead > tr,\n",
       ".dataframe > tbody > tr {\n",
       "  text-align: right;\n",
       "  white-space: pre-wrap;\n",
       "}\n",
       "</style>\n",
       "<small>shape: (5, 6)</small><table border=\"1\" class=\"dataframe\"><thead><tr><th>Employee ID</th><th>Name</th><th>Age</th><th>Department</th><th>Salary</th><th>Start Date</th></tr><tr><td>i64</td><td>str</td><td>i64</td><td>str</td><td>f64</td><td>date</td></tr></thead><tbody><tr><td>1</td><td>&quot;Alice&quot;</td><td>29</td><td>&quot;HR&quot;</td><td>50000.0</td><td>2023-05-21</td></tr><tr><td>2</td><td>&quot;Bob&quot;</td><td>34</td><td>&quot;Engineering&quot;</td><td>75000.0</td><td>2019-08-14</td></tr><tr><td>3</td><td>&quot;Charlie&quot;</td><td>31</td><td>&quot;Finance&quot;</td><td>50.0</td><td>2021-01-10</td></tr><tr><td>4</td><td>&quot;David&quot;</td><td>28</td><td>&quot;HR&quot;</td><td>50.0</td><td>2018-11-03</td></tr><tr><td>5</td><td>&quot;Eve&quot;</td><td>42</td><td>&quot;Finance&quot;</td><td>85000.0</td><td>2022-06-27</td></tr></tbody></table></div>"
      ],
      "text/plain": [
       "shape: (5, 6)\n",
       "┌─────────────┬─────────┬─────┬─────────────┬─────────┬────────────┐\n",
       "│ Employee ID ┆ Name    ┆ Age ┆ Department  ┆ Salary  ┆ Start Date │\n",
       "│ ---         ┆ ---     ┆ --- ┆ ---         ┆ ---     ┆ ---        │\n",
       "│ i64         ┆ str     ┆ i64 ┆ str         ┆ f64     ┆ date       │\n",
       "╞═════════════╪═════════╪═════╪═════════════╪═════════╪════════════╡\n",
       "│ 1           ┆ Alice   ┆ 29  ┆ HR          ┆ 50000.0 ┆ 2023-05-21 │\n",
       "│ 2           ┆ Bob     ┆ 34  ┆ Engineering ┆ 75000.0 ┆ 2019-08-14 │\n",
       "│ 3           ┆ Charlie ┆ 31  ┆ Finance     ┆ 50.0    ┆ 2021-01-10 │\n",
       "│ 4           ┆ David   ┆ 28  ┆ HR          ┆ 50.0    ┆ 2018-11-03 │\n",
       "│ 5           ┆ Eve     ┆ 42  ┆ Finance     ┆ 85000.0 ┆ 2022-06-27 │\n",
       "└─────────────┴─────────┴─────┴─────────────┴─────────┴────────────┘"
      ]
     },
     "execution_count": 40,
     "metadata": {},
     "output_type": "execute_result"
    }
   ],
   "source": [
    "df.with_columns(pl.col('Salary').fill_null(pl.lit(50)))"
   ]
  },
  {
   "cell_type": "code",
   "execution_count": 41,
   "id": "b0eeb0c8-11ab-4c38-8fdd-6aa489949224",
   "metadata": {},
   "outputs": [
    {
     "data": {
      "text/html": [
       "<div><style>\n",
       ".dataframe > thead > tr,\n",
       ".dataframe > tbody > tr {\n",
       "  text-align: right;\n",
       "  white-space: pre-wrap;\n",
       "}\n",
       "</style>\n",
       "<small>shape: (5, 6)</small><table border=\"1\" class=\"dataframe\"><thead><tr><th>Employee ID</th><th>Name</th><th>Age</th><th>Department</th><th>Salary</th><th>Start Date</th></tr><tr><td>i64</td><td>str</td><td>i64</td><td>str</td><td>f64</td><td>date</td></tr></thead><tbody><tr><td>1</td><td>&quot;Alice&quot;</td><td>29</td><td>&quot;HR&quot;</td><td>50000.0</td><td>2023-05-21</td></tr><tr><td>2</td><td>&quot;Bob&quot;</td><td>34</td><td>&quot;Engineering&quot;</td><td>75000.0</td><td>2019-08-14</td></tr><tr><td>3</td><td>&quot;Charlie&quot;</td><td>31</td><td>&quot;Finance&quot;</td><td>75000.0</td><td>2021-01-10</td></tr><tr><td>4</td><td>&quot;David&quot;</td><td>28</td><td>&quot;HR&quot;</td><td>75000.0</td><td>2018-11-03</td></tr><tr><td>5</td><td>&quot;Eve&quot;</td><td>42</td><td>&quot;Finance&quot;</td><td>85000.0</td><td>2022-06-27</td></tr></tbody></table></div>"
      ],
      "text/plain": [
       "shape: (5, 6)\n",
       "┌─────────────┬─────────┬─────┬─────────────┬─────────┬────────────┐\n",
       "│ Employee ID ┆ Name    ┆ Age ┆ Department  ┆ Salary  ┆ Start Date │\n",
       "│ ---         ┆ ---     ┆ --- ┆ ---         ┆ ---     ┆ ---        │\n",
       "│ i64         ┆ str     ┆ i64 ┆ str         ┆ f64     ┆ date       │\n",
       "╞═════════════╪═════════╪═════╪═════════════╪═════════╪════════════╡\n",
       "│ 1           ┆ Alice   ┆ 29  ┆ HR          ┆ 50000.0 ┆ 2023-05-21 │\n",
       "│ 2           ┆ Bob     ┆ 34  ┆ Engineering ┆ 75000.0 ┆ 2019-08-14 │\n",
       "│ 3           ┆ Charlie ┆ 31  ┆ Finance     ┆ 75000.0 ┆ 2021-01-10 │\n",
       "│ 4           ┆ David   ┆ 28  ┆ HR          ┆ 75000.0 ┆ 2018-11-03 │\n",
       "│ 5           ┆ Eve     ┆ 42  ┆ Finance     ┆ 85000.0 ┆ 2022-06-27 │\n",
       "└─────────────┴─────────┴─────┴─────────────┴─────────┴────────────┘"
      ]
     },
     "execution_count": 41,
     "metadata": {},
     "output_type": "execute_result"
    }
   ],
   "source": [
    "df.with_columns(pl.col('Salary').fill_null(strategy = 'forward'))"
   ]
  },
  {
   "cell_type": "code",
   "execution_count": 42,
   "id": "40673629-0f63-450e-8ad6-1124cc535d9c",
   "metadata": {},
   "outputs": [
    {
     "data": {
      "text/html": [
       "<div><style>\n",
       ".dataframe > thead > tr,\n",
       ".dataframe > tbody > tr {\n",
       "  text-align: right;\n",
       "  white-space: pre-wrap;\n",
       "}\n",
       "</style>\n",
       "<small>shape: (5, 6)</small><table border=\"1\" class=\"dataframe\"><thead><tr><th>Employee ID</th><th>Name</th><th>Age</th><th>Department</th><th>Salary</th><th>Start Date</th></tr><tr><td>i64</td><td>str</td><td>i64</td><td>str</td><td>f64</td><td>date</td></tr></thead><tbody><tr><td>1</td><td>&quot;Alice&quot;</td><td>29</td><td>&quot;HR&quot;</td><td>50000.0</td><td>2023-05-21</td></tr><tr><td>2</td><td>&quot;Bob&quot;</td><td>34</td><td>&quot;Engineering&quot;</td><td>75000.0</td><td>2019-08-14</td></tr><tr><td>3</td><td>&quot;Charlie&quot;</td><td>31</td><td>&quot;Finance&quot;</td><td>85000.0</td><td>2021-01-10</td></tr><tr><td>4</td><td>&quot;David&quot;</td><td>28</td><td>&quot;HR&quot;</td><td>85000.0</td><td>2018-11-03</td></tr><tr><td>5</td><td>&quot;Eve&quot;</td><td>42</td><td>&quot;Finance&quot;</td><td>85000.0</td><td>2022-06-27</td></tr></tbody></table></div>"
      ],
      "text/plain": [
       "shape: (5, 6)\n",
       "┌─────────────┬─────────┬─────┬─────────────┬─────────┬────────────┐\n",
       "│ Employee ID ┆ Name    ┆ Age ┆ Department  ┆ Salary  ┆ Start Date │\n",
       "│ ---         ┆ ---     ┆ --- ┆ ---         ┆ ---     ┆ ---        │\n",
       "│ i64         ┆ str     ┆ i64 ┆ str         ┆ f64     ┆ date       │\n",
       "╞═════════════╪═════════╪═════╪═════════════╪═════════╪════════════╡\n",
       "│ 1           ┆ Alice   ┆ 29  ┆ HR          ┆ 50000.0 ┆ 2023-05-21 │\n",
       "│ 2           ┆ Bob     ┆ 34  ┆ Engineering ┆ 75000.0 ┆ 2019-08-14 │\n",
       "│ 3           ┆ Charlie ┆ 31  ┆ Finance     ┆ 85000.0 ┆ 2021-01-10 │\n",
       "│ 4           ┆ David   ┆ 28  ┆ HR          ┆ 85000.0 ┆ 2018-11-03 │\n",
       "│ 5           ┆ Eve     ┆ 42  ┆ Finance     ┆ 85000.0 ┆ 2022-06-27 │\n",
       "└─────────────┴─────────┴─────┴─────────────┴─────────┴────────────┘"
      ]
     },
     "execution_count": 42,
     "metadata": {},
     "output_type": "execute_result"
    }
   ],
   "source": [
    "df.with_columns(pl.col('Salary').fill_null(strategy = 'backward'))"
   ]
  },
  {
   "cell_type": "code",
   "execution_count": 43,
   "id": "f4ec2a3b-cb99-4511-9c79-b85598de760d",
   "metadata": {},
   "outputs": [
    {
     "data": {
      "text/html": [
       "<div><style>\n",
       ".dataframe > thead > tr,\n",
       ".dataframe > tbody > tr {\n",
       "  text-align: right;\n",
       "  white-space: pre-wrap;\n",
       "}\n",
       "</style>\n",
       "<small>shape: (5, 6)</small><table border=\"1\" class=\"dataframe\"><thead><tr><th>Employee ID</th><th>Name</th><th>Age</th><th>Department</th><th>Salary</th><th>Start Date</th></tr><tr><td>i64</td><td>str</td><td>i64</td><td>str</td><td>f64</td><td>date</td></tr></thead><tbody><tr><td>1</td><td>&quot;Alice&quot;</td><td>29</td><td>&quot;HR&quot;</td><td>50000.0</td><td>2023-05-21</td></tr><tr><td>2</td><td>&quot;Bob&quot;</td><td>34</td><td>&quot;Engineering&quot;</td><td>75000.0</td><td>2019-08-14</td></tr><tr><td>3</td><td>&quot;Charlie&quot;</td><td>31</td><td>&quot;Finance&quot;</td><td>78333.333333</td><td>2021-01-10</td></tr><tr><td>4</td><td>&quot;David&quot;</td><td>28</td><td>&quot;HR&quot;</td><td>81666.666667</td><td>2018-11-03</td></tr><tr><td>5</td><td>&quot;Eve&quot;</td><td>42</td><td>&quot;Finance&quot;</td><td>85000.0</td><td>2022-06-27</td></tr></tbody></table></div>"
      ],
      "text/plain": [
       "shape: (5, 6)\n",
       "┌─────────────┬─────────┬─────┬─────────────┬──────────────┬────────────┐\n",
       "│ Employee ID ┆ Name    ┆ Age ┆ Department  ┆ Salary       ┆ Start Date │\n",
       "│ ---         ┆ ---     ┆ --- ┆ ---         ┆ ---          ┆ ---        │\n",
       "│ i64         ┆ str     ┆ i64 ┆ str         ┆ f64          ┆ date       │\n",
       "╞═════════════╪═════════╪═════╪═════════════╪══════════════╪════════════╡\n",
       "│ 1           ┆ Alice   ┆ 29  ┆ HR          ┆ 50000.0      ┆ 2023-05-21 │\n",
       "│ 2           ┆ Bob     ┆ 34  ┆ Engineering ┆ 75000.0      ┆ 2019-08-14 │\n",
       "│ 3           ┆ Charlie ┆ 31  ┆ Finance     ┆ 78333.333333 ┆ 2021-01-10 │\n",
       "│ 4           ┆ David   ┆ 28  ┆ HR          ┆ 81666.666667 ┆ 2018-11-03 │\n",
       "│ 5           ┆ Eve     ┆ 42  ┆ Finance     ┆ 85000.0      ┆ 2022-06-27 │\n",
       "└─────────────┴─────────┴─────┴─────────────┴──────────────┴────────────┘"
      ]
     },
     "execution_count": 43,
     "metadata": {},
     "output_type": "execute_result"
    }
   ],
   "source": [
    "df.with_columns(pl.col('Salary').interpolate())"
   ]
  },
  {
   "cell_type": "code",
   "execution_count": 44,
   "id": "36b49827-aba9-4db6-ab25-a3081002f688",
   "metadata": {},
   "outputs": [],
   "source": [
    "df.write_csv('employee.csv')"
   ]
  },
  {
   "cell_type": "code",
   "execution_count": 45,
   "id": "e9b46806-d3ee-47f8-89c6-b6c6204f5f0d",
   "metadata": {},
   "outputs": [],
   "source": [
    "df.write_json('employee.json')"
   ]
  },
  {
   "cell_type": "code",
   "execution_count": 46,
   "id": "b10c913b-e016-48af-b126-c9107cd16928",
   "metadata": {},
   "outputs": [],
   "source": [
    "df.write_parquet('employee.parquet')"
   ]
  },
  {
   "cell_type": "code",
   "execution_count": 47,
   "id": "04ee8206-27d7-439a-867a-2ce192c77dd2",
   "metadata": {},
   "outputs": [
    {
     "data": {
      "text/html": [
       "<div><style>\n",
       ".dataframe > thead > tr,\n",
       ".dataframe > tbody > tr {\n",
       "  text-align: right;\n",
       "  white-space: pre-wrap;\n",
       "}\n",
       "</style>\n",
       "<small>shape: (5, 6)</small><table border=\"1\" class=\"dataframe\"><thead><tr><th>Employee ID</th><th>Name</th><th>Age</th><th>Department</th><th>Salary</th><th>Start Date</th></tr><tr><td>i64</td><td>str</td><td>i64</td><td>str</td><td>f64</td><td>str</td></tr></thead><tbody><tr><td>1</td><td>&quot;Alice&quot;</td><td>29</td><td>&quot;HR&quot;</td><td>50000.0</td><td>&quot;2023-05-21&quot;</td></tr><tr><td>2</td><td>&quot;Bob&quot;</td><td>34</td><td>&quot;Engineering&quot;</td><td>75000.0</td><td>&quot;2019-08-14&quot;</td></tr><tr><td>3</td><td>&quot;Charlie&quot;</td><td>31</td><td>&quot;Finance&quot;</td><td>null</td><td>&quot;2021-01-10&quot;</td></tr><tr><td>4</td><td>&quot;David&quot;</td><td>28</td><td>&quot;HR&quot;</td><td>null</td><td>&quot;2018-11-03&quot;</td></tr><tr><td>5</td><td>&quot;Eve&quot;</td><td>42</td><td>&quot;Finance&quot;</td><td>85000.0</td><td>&quot;2022-06-27&quot;</td></tr></tbody></table></div>"
      ],
      "text/plain": [
       "shape: (5, 6)\n",
       "┌─────────────┬─────────┬─────┬─────────────┬─────────┬────────────┐\n",
       "│ Employee ID ┆ Name    ┆ Age ┆ Department  ┆ Salary  ┆ Start Date │\n",
       "│ ---         ┆ ---     ┆ --- ┆ ---         ┆ ---     ┆ ---        │\n",
       "│ i64         ┆ str     ┆ i64 ┆ str         ┆ f64     ┆ str        │\n",
       "╞═════════════╪═════════╪═════╪═════════════╪═════════╪════════════╡\n",
       "│ 1           ┆ Alice   ┆ 29  ┆ HR          ┆ 50000.0 ┆ 2023-05-21 │\n",
       "│ 2           ┆ Bob     ┆ 34  ┆ Engineering ┆ 75000.0 ┆ 2019-08-14 │\n",
       "│ 3           ┆ Charlie ┆ 31  ┆ Finance     ┆ null    ┆ 2021-01-10 │\n",
       "│ 4           ┆ David   ┆ 28  ┆ HR          ┆ null    ┆ 2018-11-03 │\n",
       "│ 5           ┆ Eve     ┆ 42  ┆ Finance     ┆ 85000.0 ┆ 2022-06-27 │\n",
       "└─────────────┴─────────┴─────┴─────────────┴─────────┴────────────┘"
      ]
     },
     "execution_count": 47,
     "metadata": {},
     "output_type": "execute_result"
    }
   ],
   "source": [
    "df2 = pl.read_csv(\"employee.csv\")\n",
    "df2"
   ]
  },
  {
   "cell_type": "code",
   "execution_count": 54,
   "id": "c8e71f35-1ddb-4048-8a71-7b118137a551",
   "metadata": {},
   "outputs": [],
   "source": [
    "df1 = pl.DataFrame({\n",
    "    \"Employee ID\": [1,2,3,4,5],\n",
    "    \"Name\": [\"Alice\",\"Bob\",\"Charlie\",\"David\",\"Eve\"],\n",
    "    \"Age\": [29, 34, 31, 28, 42],\n",
    "    \"Department\": [\"HR\", \"Engineering\", \"Finance\", \"HR\", \"Finance\"],\n",
    "    \"Salary\": [50000.0, 75000.0, 60000, 75000, 85000.0],\n",
    "    \"Start Date\": [date(2023,5,21), date(2019,8,14), date(2021,1,10), date(2018,11,3), date(2022,6,27)]\n",
    "})"
   ]
  },
  {
   "cell_type": "code",
   "execution_count": 55,
   "id": "1bcf9e8a-4a5b-4083-b120-0524569e2c19",
   "metadata": {},
   "outputs": [
    {
     "data": {
      "text/html": [
       "\n",
       "<style>\n",
       "  #altair-viz-3881fce0e52542dfbcf4898cc2cb5375.vega-embed {\n",
       "    width: 100%;\n",
       "    display: flex;\n",
       "  }\n",
       "\n",
       "  #altair-viz-3881fce0e52542dfbcf4898cc2cb5375.vega-embed details,\n",
       "  #altair-viz-3881fce0e52542dfbcf4898cc2cb5375.vega-embed details summary {\n",
       "    position: relative;\n",
       "  }\n",
       "</style>\n",
       "<div id=\"altair-viz-3881fce0e52542dfbcf4898cc2cb5375\"></div>\n",
       "<script type=\"text/javascript\">\n",
       "  var VEGA_DEBUG = (typeof VEGA_DEBUG == \"undefined\") ? {} : VEGA_DEBUG;\n",
       "  (function(spec, embedOpt){\n",
       "    let outputDiv = document.currentScript.previousElementSibling;\n",
       "    if (outputDiv.id !== \"altair-viz-3881fce0e52542dfbcf4898cc2cb5375\") {\n",
       "      outputDiv = document.getElementById(\"altair-viz-3881fce0e52542dfbcf4898cc2cb5375\");\n",
       "    }\n",
       "\n",
       "    const paths = {\n",
       "      \"vega\": \"https://cdn.jsdelivr.net/npm/vega@5?noext\",\n",
       "      \"vega-lib\": \"https://cdn.jsdelivr.net/npm/vega-lib?noext\",\n",
       "      \"vega-lite\": \"https://cdn.jsdelivr.net/npm/vega-lite@5.20.1?noext\",\n",
       "      \"vega-embed\": \"https://cdn.jsdelivr.net/npm/vega-embed@6?noext\",\n",
       "    };\n",
       "\n",
       "    function maybeLoadScript(lib, version) {\n",
       "      var key = `${lib.replace(\"-\", \"\")}_version`;\n",
       "      return (VEGA_DEBUG[key] == version) ?\n",
       "        Promise.resolve(paths[lib]) :\n",
       "        new Promise(function(resolve, reject) {\n",
       "          var s = document.createElement('script');\n",
       "          document.getElementsByTagName(\"head\")[0].appendChild(s);\n",
       "          s.async = true;\n",
       "          s.onload = () => {\n",
       "            VEGA_DEBUG[key] = version;\n",
       "            return resolve(paths[lib]);\n",
       "          };\n",
       "          s.onerror = () => reject(`Error loading script: ${paths[lib]}`);\n",
       "          s.src = paths[lib];\n",
       "        });\n",
       "    }\n",
       "\n",
       "    function showError(err) {\n",
       "      outputDiv.innerHTML = `<div class=\"error\" style=\"color:red;\">${err}</div>`;\n",
       "      throw err;\n",
       "    }\n",
       "\n",
       "    function displayChart(vegaEmbed) {\n",
       "      vegaEmbed(outputDiv, spec, embedOpt)\n",
       "        .catch(err => showError(`Javascript Error: ${err.message}<br>This usually means there's a typo in your chart specification. See the javascript console for the full traceback.`));\n",
       "    }\n",
       "\n",
       "    if(typeof define === \"function\" && define.amd) {\n",
       "      requirejs.config({paths});\n",
       "      let deps = [\"vega-embed\"];\n",
       "      require(deps, displayChart, err => showError(`Error loading script: ${err.message}`));\n",
       "    } else {\n",
       "      maybeLoadScript(\"vega\", \"5\")\n",
       "        .then(() => maybeLoadScript(\"vega-lite\", \"5.20.1\"))\n",
       "        .then(() => maybeLoadScript(\"vega-embed\", \"6\"))\n",
       "        .catch(showError)\n",
       "        .then(() => displayChart(vegaEmbed));\n",
       "    }\n",
       "  })({\"config\": {\"view\": {\"continuousWidth\": 300, \"continuousHeight\": 300}}, \"data\": {\"name\": \"data-2749f7c70b40ffe61dbc80cfc9d103e0\"}, \"mark\": {\"type\": \"bar\", \"tooltip\": true}, \"encoding\": {\"x\": {\"field\": \"index\", \"type\": \"quantitative\"}, \"y\": {\"field\": \"Age\", \"type\": \"quantitative\"}}, \"params\": [{\"name\": \"param_4\", \"select\": {\"type\": \"interval\", \"encodings\": [\"x\", \"y\"]}, \"bind\": \"scales\"}], \"$schema\": \"https://vega.github.io/schema/vega-lite/v5.20.1.json\", \"datasets\": {\"data-2749f7c70b40ffe61dbc80cfc9d103e0\": [{\"index\": 0, \"Age\": 29}, {\"index\": 1, \"Age\": 34}, {\"index\": 2, \"Age\": 31}, {\"index\": 3, \"Age\": 28}, {\"index\": 4, \"Age\": 42}]}}, {\"mode\": \"vega-lite\"});\n",
       "</script>"
      ],
      "text/plain": [
       "alt.Chart(...)"
      ]
     },
     "execution_count": 55,
     "metadata": {},
     "output_type": "execute_result"
    }
   ],
   "source": [
    "df1['Age'].plot.bar()"
   ]
  },
  {
   "cell_type": "code",
   "execution_count": 58,
   "id": "0a99a0f5-241c-4922-8463-35ad50576053",
   "metadata": {},
   "outputs": [
    {
     "data": {
      "text/html": [
       "\n",
       "<style>\n",
       "  #altair-viz-7848b8e3f7bc467793261b94b7d0e863.vega-embed {\n",
       "    width: 100%;\n",
       "    display: flex;\n",
       "  }\n",
       "\n",
       "  #altair-viz-7848b8e3f7bc467793261b94b7d0e863.vega-embed details,\n",
       "  #altair-viz-7848b8e3f7bc467793261b94b7d0e863.vega-embed details summary {\n",
       "    position: relative;\n",
       "  }\n",
       "</style>\n",
       "<div id=\"altair-viz-7848b8e3f7bc467793261b94b7d0e863\"></div>\n",
       "<script type=\"text/javascript\">\n",
       "  var VEGA_DEBUG = (typeof VEGA_DEBUG == \"undefined\") ? {} : VEGA_DEBUG;\n",
       "  (function(spec, embedOpt){\n",
       "    let outputDiv = document.currentScript.previousElementSibling;\n",
       "    if (outputDiv.id !== \"altair-viz-7848b8e3f7bc467793261b94b7d0e863\") {\n",
       "      outputDiv = document.getElementById(\"altair-viz-7848b8e3f7bc467793261b94b7d0e863\");\n",
       "    }\n",
       "\n",
       "    const paths = {\n",
       "      \"vega\": \"https://cdn.jsdelivr.net/npm/vega@5?noext\",\n",
       "      \"vega-lib\": \"https://cdn.jsdelivr.net/npm/vega-lib?noext\",\n",
       "      \"vega-lite\": \"https://cdn.jsdelivr.net/npm/vega-lite@5.20.1?noext\",\n",
       "      \"vega-embed\": \"https://cdn.jsdelivr.net/npm/vega-embed@6?noext\",\n",
       "    };\n",
       "\n",
       "    function maybeLoadScript(lib, version) {\n",
       "      var key = `${lib.replace(\"-\", \"\")}_version`;\n",
       "      return (VEGA_DEBUG[key] == version) ?\n",
       "        Promise.resolve(paths[lib]) :\n",
       "        new Promise(function(resolve, reject) {\n",
       "          var s = document.createElement('script');\n",
       "          document.getElementsByTagName(\"head\")[0].appendChild(s);\n",
       "          s.async = true;\n",
       "          s.onload = () => {\n",
       "            VEGA_DEBUG[key] = version;\n",
       "            return resolve(paths[lib]);\n",
       "          };\n",
       "          s.onerror = () => reject(`Error loading script: ${paths[lib]}`);\n",
       "          s.src = paths[lib];\n",
       "        });\n",
       "    }\n",
       "\n",
       "    function showError(err) {\n",
       "      outputDiv.innerHTML = `<div class=\"error\" style=\"color:red;\">${err}</div>`;\n",
       "      throw err;\n",
       "    }\n",
       "\n",
       "    function displayChart(vegaEmbed) {\n",
       "      vegaEmbed(outputDiv, spec, embedOpt)\n",
       "        .catch(err => showError(`Javascript Error: ${err.message}<br>This usually means there's a typo in your chart specification. See the javascript console for the full traceback.`));\n",
       "    }\n",
       "\n",
       "    if(typeof define === \"function\" && define.amd) {\n",
       "      requirejs.config({paths});\n",
       "      let deps = [\"vega-embed\"];\n",
       "      require(deps, displayChart, err => showError(`Error loading script: ${err.message}`));\n",
       "    } else {\n",
       "      maybeLoadScript(\"vega\", \"5\")\n",
       "        .then(() => maybeLoadScript(\"vega-lite\", \"5.20.1\"))\n",
       "        .then(() => maybeLoadScript(\"vega-embed\", \"6\"))\n",
       "        .catch(showError)\n",
       "        .then(() => displayChart(vegaEmbed));\n",
       "    }\n",
       "  })({\"config\": {\"view\": {\"continuousWidth\": 300, \"continuousHeight\": 300}}, \"data\": {\"name\": \"data-d574ee629d2dcb88b8b25057e7473d9e\"}, \"mark\": {\"type\": \"point\", \"tooltip\": true}, \"encoding\": {\"x\": {\"field\": \"Age\", \"type\": \"quantitative\"}, \"y\": {\"field\": \"Salary\", \"type\": \"quantitative\"}}, \"params\": [{\"name\": \"param_6\", \"select\": {\"type\": \"interval\", \"encodings\": [\"x\", \"y\"]}, \"bind\": \"scales\"}], \"$schema\": \"https://vega.github.io/schema/vega-lite/v5.20.1.json\", \"datasets\": {\"data-d574ee629d2dcb88b8b25057e7473d9e\": [{\"Employee ID\": 1, \"Name\": \"Alice\", \"Age\": 29, \"Department\": \"HR\", \"Salary\": 50000.0, \"Start Date\": \"2023-05-21T00:00:00\"}, {\"Employee ID\": 2, \"Name\": \"Bob\", \"Age\": 34, \"Department\": \"Engineering\", \"Salary\": 75000.0, \"Start Date\": \"2019-08-14T00:00:00\"}, {\"Employee ID\": 3, \"Name\": \"Charlie\", \"Age\": 31, \"Department\": \"Finance\", \"Salary\": 60000.0, \"Start Date\": \"2021-01-10T00:00:00\"}, {\"Employee ID\": 4, \"Name\": \"David\", \"Age\": 28, \"Department\": \"HR\", \"Salary\": 75000.0, \"Start Date\": \"2018-11-03T00:00:00\"}, {\"Employee ID\": 5, \"Name\": \"Eve\", \"Age\": 42, \"Department\": \"Finance\", \"Salary\": 85000.0, \"Start Date\": \"2022-06-27T00:00:00\"}]}}, {\"mode\": \"vega-lite\"});\n",
       "</script>"
      ],
      "text/plain": [
       "alt.Chart(...)"
      ]
     },
     "execution_count": 58,
     "metadata": {},
     "output_type": "execute_result"
    }
   ],
   "source": [
    "df1.plot.scatter(x='Age', y='Salary')"
   ]
  },
  {
   "cell_type": "code",
   "execution_count": null,
   "id": "ef709126-c96d-4744-9d29-ecb464acb509",
   "metadata": {},
   "outputs": [],
   "source": []
  },
  {
   "cell_type": "code",
   "execution_count": null,
   "id": "b05d0c40-955d-4d9b-960c-9e0d1f785a6f",
   "metadata": {},
   "outputs": [],
   "source": []
  },
  {
   "cell_type": "code",
   "execution_count": null,
   "id": "de6d4c24-0bc0-4f15-907d-102328462227",
   "metadata": {},
   "outputs": [],
   "source": []
  }
 ],
 "metadata": {
  "kernelspec": {
   "display_name": "Python 3 (ipykernel)",
   "language": "python",
   "name": "python3"
  },
  "language_info": {
   "codemirror_mode": {
    "name": "ipython",
    "version": 3
   },
   "file_extension": ".py",
   "mimetype": "text/x-python",
   "name": "python",
   "nbconvert_exporter": "python",
   "pygments_lexer": "ipython3",
   "version": "3.12.11"
  }
 },
 "nbformat": 4,
 "nbformat_minor": 5
}
