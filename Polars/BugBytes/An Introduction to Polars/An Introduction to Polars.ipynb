{
 "cells": [
  {
   "cell_type": "code",
   "execution_count": 1,
   "id": "f0d36a6d-85a0-412b-822b-bc0ba395a0a9",
   "metadata": {},
   "outputs": [
    {
     "name": "stdout",
     "output_type": "stream",
     "text": [
      "--------Version info---------\n",
      "Polars:              1.32.3\n",
      "Index type:          UInt32\n",
      "Platform:            Windows-10-10.0.19045-SP0\n",
      "Python:              3.12.11 | packaged by Anaconda, Inc. | (main, Jun  5 2025, 12:58:53) [MSC v.1929 64 bit (AMD64)]\n",
      "LTS CPU:             False\n",
      "\n",
      "----Optional dependencies----\n",
      "Azure CLI            <not installed>\n",
      "adbc_driver_manager  1.7.0\n",
      "altair               <not installed>\n",
      "azure.identity       <not installed>\n",
      "boto3                <not installed>\n",
      "cloudpickle          <not installed>\n",
      "connectorx           <not installed>\n",
      "deltalake            <not installed>\n",
      "fastexcel            <not installed>\n",
      "fsspec               2025.7.0\n",
      "gevent               <not installed>\n",
      "google.auth          <not installed>\n",
      "great_tables         <not installed>\n",
      "matplotlib           3.10.5\n",
      "numpy                2.3.2\n",
      "openpyxl             <not installed>\n",
      "pandas               2.3.2\n",
      "polars_cloud         <not installed>\n",
      "pyarrow              21.0.0\n",
      "pydantic             <not installed>\n",
      "pyiceberg            <not installed>\n",
      "sqlalchemy           2.0.43\n",
      "torch                <not installed>\n",
      "xlsx2csv             <not installed>\n",
      "xlsxwriter           <not installed>\n"
     ]
    }
   ],
   "source": [
    "import polars as pl\n",
    "pl.show_versions()"
   ]
  },
  {
   "cell_type": "code",
   "execution_count": 3,
   "id": "1d1838d2-642d-4fa5-9e44-a46ac9a7e3b1",
   "metadata": {},
   "outputs": [
    {
     "data": {
      "text/html": [
       "<div><style>\n",
       ".dataframe > thead > tr,\n",
       ".dataframe > tbody > tr {\n",
       "  text-align: right;\n",
       "  white-space: pre-wrap;\n",
       "}\n",
       "</style>\n",
       "<small>shape: (6,)</small><table border=\"1\" class=\"dataframe\"><thead><tr><th>age</th></tr><tr><td>i64</td></tr></thead><tbody><tr><td>24</td></tr><tr><td>20</td></tr><tr><td>55</td></tr><tr><td>44</td></tr><tr><td>77</td></tr><tr><td>16</td></tr></tbody></table></div>"
      ],
      "text/plain": [
       "shape: (6,)\n",
       "Series: 'age' [i64]\n",
       "[\n",
       "\t24\n",
       "\t20\n",
       "\t55\n",
       "\t44\n",
       "\t77\n",
       "\t16\n",
       "]"
      ]
     },
     "execution_count": 3,
     "metadata": {},
     "output_type": "execute_result"
    }
   ],
   "source": [
    "series = pl.Series(\"age\", [24,20,55,44,77,16])\n",
    "series"
   ]
  },
  {
   "cell_type": "code",
   "execution_count": 4,
   "id": "869f8c77-32d1-46cc-b44a-024abfc92e8c",
   "metadata": {},
   "outputs": [
    {
     "data": {
      "text/plain": [
       "77"
      ]
     },
     "execution_count": 4,
     "metadata": {},
     "output_type": "execute_result"
    }
   ],
   "source": [
    "series.max()"
   ]
  },
  {
   "cell_type": "code",
   "execution_count": 5,
   "id": "004fb857-b288-4932-a2f8-98469a7bf9a4",
   "metadata": {},
   "outputs": [
    {
     "data": {
      "text/plain": [
       "16"
      ]
     },
     "execution_count": 5,
     "metadata": {},
     "output_type": "execute_result"
    }
   ],
   "source": [
    "series.min()"
   ]
  },
  {
   "cell_type": "code",
   "execution_count": 6,
   "id": "83ba2705-580b-4c1b-9908-549ea582cfdb",
   "metadata": {},
   "outputs": [
    {
     "data": {
      "text/plain": [
       "236"
      ]
     },
     "execution_count": 6,
     "metadata": {},
     "output_type": "execute_result"
    }
   ],
   "source": [
    "series.sum()"
   ]
  },
  {
   "cell_type": "code",
   "execution_count": 7,
   "id": "f141dcf2-8af6-47cf-a02e-799553a97977",
   "metadata": {},
   "outputs": [
    {
     "data": {
      "text/html": [
       "<div><style>\n",
       ".dataframe > thead > tr,\n",
       ".dataframe > tbody > tr {\n",
       "  text-align: right;\n",
       "  white-space: pre-wrap;\n",
       "}\n",
       "</style>\n",
       "<small>shape: (6,)</small><table border=\"1\" class=\"dataframe\"><thead><tr><th>age</th></tr><tr><td>i64</td></tr></thead><tbody><tr><td>16</td></tr><tr><td>20</td></tr><tr><td>24</td></tr><tr><td>44</td></tr><tr><td>55</td></tr><tr><td>77</td></tr></tbody></table></div>"
      ],
      "text/plain": [
       "shape: (6,)\n",
       "Series: 'age' [i64]\n",
       "[\n",
       "\t16\n",
       "\t20\n",
       "\t24\n",
       "\t44\n",
       "\t55\n",
       "\t77\n",
       "]"
      ]
     },
     "execution_count": 7,
     "metadata": {},
     "output_type": "execute_result"
    }
   ],
   "source": [
    "series.sort()"
   ]
  },
  {
   "cell_type": "code",
   "execution_count": 8,
   "id": "fd4e33d4-c9b1-44f6-81b0-fd230c5ecd55",
   "metadata": {},
   "outputs": [
    {
     "data": {
      "text/html": [
       "<div><style>\n",
       ".dataframe > thead > tr,\n",
       ".dataframe > tbody > tr {\n",
       "  text-align: right;\n",
       "  white-space: pre-wrap;\n",
       "}\n",
       "</style>\n",
       "<small>shape: (6,)</small><table border=\"1\" class=\"dataframe\"><thead><tr><th>age</th></tr><tr><td>i64</td></tr></thead><tbody><tr><td>77</td></tr><tr><td>55</td></tr><tr><td>44</td></tr><tr><td>24</td></tr><tr><td>20</td></tr><tr><td>16</td></tr></tbody></table></div>"
      ],
      "text/plain": [
       "shape: (6,)\n",
       "Series: 'age' [i64]\n",
       "[\n",
       "\t77\n",
       "\t55\n",
       "\t44\n",
       "\t24\n",
       "\t20\n",
       "\t16\n",
       "]"
      ]
     },
     "execution_count": 8,
     "metadata": {},
     "output_type": "execute_result"
    }
   ],
   "source": [
    "series.sort(descending=True)"
   ]
  },
  {
   "cell_type": "code",
   "execution_count": 9,
   "id": "2eef3bb2-59cd-4d0c-93e8-25691c21654a",
   "metadata": {},
   "outputs": [
    {
     "data": {
      "text/plain": [
       "0    24\n",
       "1    20\n",
       "2    55\n",
       "3    44\n",
       "4    77\n",
       "5    16\n",
       "Name: age, dtype: int64"
      ]
     },
     "execution_count": 9,
     "metadata": {},
     "output_type": "execute_result"
    }
   ],
   "source": [
    "series.to_pandas()"
   ]
  },
  {
   "cell_type": "code",
   "execution_count": 10,
   "id": "019e058f-e2f9-47b1-96b7-af87e8183419",
   "metadata": {},
   "outputs": [],
   "source": [
    "from datetime import date\n",
    "\n",
    "df = pl.DataFrame({\n",
    "    \"Employee ID\": [1,2,3,4,5],\n",
    "    \"Name\": [\"Alice\",\"Bob\",\"Charlie\",\"David\",\"Eve\"],\n",
    "    \"Age\": [29, 34, 31, 28, 42],\n",
    "    \"Department\": [\"HR\", \"Engineering\", \"Finance\", \"HR\", \"Finance\"],\n",
    "    \"Salary\": [50000.0, 75000.0, 60000.0, 58000.0, 85000.0],\n",
    "    \"Start Date\": [date(2023,5,21), date(2019,8,14), date(2021,1,10), date(2018,11,3), date(2022,6,27)]\n",
    "})"
   ]
  },
  {
   "cell_type": "code",
   "execution_count": 11,
   "id": "52674229-48ab-43a5-8478-7533abf18db5",
   "metadata": {},
   "outputs": [
    {
     "data": {
      "text/html": [
       "<div><style>\n",
       ".dataframe > thead > tr,\n",
       ".dataframe > tbody > tr {\n",
       "  text-align: right;\n",
       "  white-space: pre-wrap;\n",
       "}\n",
       "</style>\n",
       "<small>shape: (5, 6)</small><table border=\"1\" class=\"dataframe\"><thead><tr><th>Employee ID</th><th>Name</th><th>Age</th><th>Department</th><th>Salary</th><th>Start Date</th></tr><tr><td>i64</td><td>str</td><td>i64</td><td>str</td><td>f64</td><td>date</td></tr></thead><tbody><tr><td>1</td><td>&quot;Alice&quot;</td><td>29</td><td>&quot;HR&quot;</td><td>50000.0</td><td>2023-05-21</td></tr><tr><td>2</td><td>&quot;Bob&quot;</td><td>34</td><td>&quot;Engineering&quot;</td><td>75000.0</td><td>2019-08-14</td></tr><tr><td>3</td><td>&quot;Charlie&quot;</td><td>31</td><td>&quot;Finance&quot;</td><td>60000.0</td><td>2021-01-10</td></tr><tr><td>4</td><td>&quot;David&quot;</td><td>28</td><td>&quot;HR&quot;</td><td>58000.0</td><td>2018-11-03</td></tr><tr><td>5</td><td>&quot;Eve&quot;</td><td>42</td><td>&quot;Finance&quot;</td><td>85000.0</td><td>2022-06-27</td></tr></tbody></table></div>"
      ],
      "text/plain": [
       "shape: (5, 6)\n",
       "┌─────────────┬─────────┬─────┬─────────────┬─────────┬────────────┐\n",
       "│ Employee ID ┆ Name    ┆ Age ┆ Department  ┆ Salary  ┆ Start Date │\n",
       "│ ---         ┆ ---     ┆ --- ┆ ---         ┆ ---     ┆ ---        │\n",
       "│ i64         ┆ str     ┆ i64 ┆ str         ┆ f64     ┆ date       │\n",
       "╞═════════════╪═════════╪═════╪═════════════╪═════════╪════════════╡\n",
       "│ 1           ┆ Alice   ┆ 29  ┆ HR          ┆ 50000.0 ┆ 2023-05-21 │\n",
       "│ 2           ┆ Bob     ┆ 34  ┆ Engineering ┆ 75000.0 ┆ 2019-08-14 │\n",
       "│ 3           ┆ Charlie ┆ 31  ┆ Finance     ┆ 60000.0 ┆ 2021-01-10 │\n",
       "│ 4           ┆ David   ┆ 28  ┆ HR          ┆ 58000.0 ┆ 2018-11-03 │\n",
       "│ 5           ┆ Eve     ┆ 42  ┆ Finance     ┆ 85000.0 ┆ 2022-06-27 │\n",
       "└─────────────┴─────────┴─────┴─────────────┴─────────┴────────────┘"
      ]
     },
     "execution_count": 11,
     "metadata": {},
     "output_type": "execute_result"
    }
   ],
   "source": [
    "df"
   ]
  },
  {
   "cell_type": "code",
   "execution_count": 12,
   "id": "4da333bf-004f-4532-9392-2a6b83c14469",
   "metadata": {},
   "outputs": [
    {
     "data": {
      "text/html": [
       "<div><style>\n",
       ".dataframe > thead > tr,\n",
       ".dataframe > tbody > tr {\n",
       "  text-align: right;\n",
       "  white-space: pre-wrap;\n",
       "}\n",
       "</style>\n",
       "<small>shape: (2, 6)</small><table border=\"1\" class=\"dataframe\"><thead><tr><th>Employee ID</th><th>Name</th><th>Age</th><th>Department</th><th>Salary</th><th>Start Date</th></tr><tr><td>i64</td><td>str</td><td>i64</td><td>str</td><td>f64</td><td>date</td></tr></thead><tbody><tr><td>1</td><td>&quot;Alice&quot;</td><td>29</td><td>&quot;HR&quot;</td><td>50000.0</td><td>2023-05-21</td></tr><tr><td>2</td><td>&quot;Bob&quot;</td><td>34</td><td>&quot;Engineering&quot;</td><td>75000.0</td><td>2019-08-14</td></tr></tbody></table></div>"
      ],
      "text/plain": [
       "shape: (2, 6)\n",
       "┌─────────────┬───────┬─────┬─────────────┬─────────┬────────────┐\n",
       "│ Employee ID ┆ Name  ┆ Age ┆ Department  ┆ Salary  ┆ Start Date │\n",
       "│ ---         ┆ ---   ┆ --- ┆ ---         ┆ ---     ┆ ---        │\n",
       "│ i64         ┆ str   ┆ i64 ┆ str         ┆ f64     ┆ date       │\n",
       "╞═════════════╪═══════╪═════╪═════════════╪═════════╪════════════╡\n",
       "│ 1           ┆ Alice ┆ 29  ┆ HR          ┆ 50000.0 ┆ 2023-05-21 │\n",
       "│ 2           ┆ Bob   ┆ 34  ┆ Engineering ┆ 75000.0 ┆ 2019-08-14 │\n",
       "└─────────────┴───────┴─────┴─────────────┴─────────┴────────────┘"
      ]
     },
     "execution_count": 12,
     "metadata": {},
     "output_type": "execute_result"
    }
   ],
   "source": [
    "df.head(2)"
   ]
  },
  {
   "cell_type": "code",
   "execution_count": 13,
   "id": "9e094255-02be-4be2-b82d-7aff350a3aeb",
   "metadata": {},
   "outputs": [
    {
     "data": {
      "text/html": [
       "<div><style>\n",
       ".dataframe > thead > tr,\n",
       ".dataframe > tbody > tr {\n",
       "  text-align: right;\n",
       "  white-space: pre-wrap;\n",
       "}\n",
       "</style>\n",
       "<small>shape: (2, 6)</small><table border=\"1\" class=\"dataframe\"><thead><tr><th>Employee ID</th><th>Name</th><th>Age</th><th>Department</th><th>Salary</th><th>Start Date</th></tr><tr><td>i64</td><td>str</td><td>i64</td><td>str</td><td>f64</td><td>date</td></tr></thead><tbody><tr><td>4</td><td>&quot;David&quot;</td><td>28</td><td>&quot;HR&quot;</td><td>58000.0</td><td>2018-11-03</td></tr><tr><td>5</td><td>&quot;Eve&quot;</td><td>42</td><td>&quot;Finance&quot;</td><td>85000.0</td><td>2022-06-27</td></tr></tbody></table></div>"
      ],
      "text/plain": [
       "shape: (2, 6)\n",
       "┌─────────────┬───────┬─────┬────────────┬─────────┬────────────┐\n",
       "│ Employee ID ┆ Name  ┆ Age ┆ Department ┆ Salary  ┆ Start Date │\n",
       "│ ---         ┆ ---   ┆ --- ┆ ---        ┆ ---     ┆ ---        │\n",
       "│ i64         ┆ str   ┆ i64 ┆ str        ┆ f64     ┆ date       │\n",
       "╞═════════════╪═══════╪═════╪════════════╪═════════╪════════════╡\n",
       "│ 4           ┆ David ┆ 28  ┆ HR         ┆ 58000.0 ┆ 2018-11-03 │\n",
       "│ 5           ┆ Eve   ┆ 42  ┆ Finance    ┆ 85000.0 ┆ 2022-06-27 │\n",
       "└─────────────┴───────┴─────┴────────────┴─────────┴────────────┘"
      ]
     },
     "execution_count": 13,
     "metadata": {},
     "output_type": "execute_result"
    }
   ],
   "source": [
    "df.tail(2)"
   ]
  },
  {
   "cell_type": "code",
   "execution_count": 14,
   "id": "1b8972fa-c290-4cf7-a42a-433423627e45",
   "metadata": {},
   "outputs": [
    {
     "data": {
      "text/html": [
       "<div><style>\n",
       ".dataframe > thead > tr,\n",
       ".dataframe > tbody > tr {\n",
       "  text-align: right;\n",
       "  white-space: pre-wrap;\n",
       "}\n",
       "</style>\n",
       "<small>shape: (9, 7)</small><table border=\"1\" class=\"dataframe\"><thead><tr><th>statistic</th><th>Employee ID</th><th>Name</th><th>Age</th><th>Department</th><th>Salary</th><th>Start Date</th></tr><tr><td>str</td><td>f64</td><td>str</td><td>f64</td><td>str</td><td>f64</td><td>str</td></tr></thead><tbody><tr><td>&quot;count&quot;</td><td>5.0</td><td>&quot;5&quot;</td><td>5.0</td><td>&quot;5&quot;</td><td>5.0</td><td>&quot;5&quot;</td></tr><tr><td>&quot;null_count&quot;</td><td>0.0</td><td>&quot;0&quot;</td><td>0.0</td><td>&quot;0&quot;</td><td>0.0</td><td>&quot;0&quot;</td></tr><tr><td>&quot;mean&quot;</td><td>3.0</td><td>null</td><td>32.8</td><td>null</td><td>65600.0</td><td>&quot;2021-01-26 00:00:00&quot;</td></tr><tr><td>&quot;std&quot;</td><td>1.581139</td><td>null</td><td>5.630275</td><td>null</td><td>14117.365193</td><td>null</td></tr><tr><td>&quot;min&quot;</td><td>1.0</td><td>&quot;Alice&quot;</td><td>28.0</td><td>&quot;Engineering&quot;</td><td>50000.0</td><td>&quot;2018-11-03&quot;</td></tr><tr><td>&quot;25%&quot;</td><td>2.0</td><td>null</td><td>29.0</td><td>null</td><td>58000.0</td><td>&quot;2019-08-14&quot;</td></tr><tr><td>&quot;50%&quot;</td><td>3.0</td><td>null</td><td>31.0</td><td>null</td><td>60000.0</td><td>&quot;2021-01-10&quot;</td></tr><tr><td>&quot;75%&quot;</td><td>4.0</td><td>null</td><td>34.0</td><td>null</td><td>75000.0</td><td>&quot;2022-06-27&quot;</td></tr><tr><td>&quot;max&quot;</td><td>5.0</td><td>&quot;Eve&quot;</td><td>42.0</td><td>&quot;HR&quot;</td><td>85000.0</td><td>&quot;2023-05-21&quot;</td></tr></tbody></table></div>"
      ],
      "text/plain": [
       "shape: (9, 7)\n",
       "┌────────────┬─────────────┬───────┬──────────┬─────────────┬──────────────┬─────────────────────┐\n",
       "│ statistic  ┆ Employee ID ┆ Name  ┆ Age      ┆ Department  ┆ Salary       ┆ Start Date          │\n",
       "│ ---        ┆ ---         ┆ ---   ┆ ---      ┆ ---         ┆ ---          ┆ ---                 │\n",
       "│ str        ┆ f64         ┆ str   ┆ f64      ┆ str         ┆ f64          ┆ str                 │\n",
       "╞════════════╪═════════════╪═══════╪══════════╪═════════════╪══════════════╪═════════════════════╡\n",
       "│ count      ┆ 5.0         ┆ 5     ┆ 5.0      ┆ 5           ┆ 5.0          ┆ 5                   │\n",
       "│ null_count ┆ 0.0         ┆ 0     ┆ 0.0      ┆ 0           ┆ 0.0          ┆ 0                   │\n",
       "│ mean       ┆ 3.0         ┆ null  ┆ 32.8     ┆ null        ┆ 65600.0      ┆ 2021-01-26 00:00:00 │\n",
       "│ std        ┆ 1.581139    ┆ null  ┆ 5.630275 ┆ null        ┆ 14117.365193 ┆ null                │\n",
       "│ min        ┆ 1.0         ┆ Alice ┆ 28.0     ┆ Engineering ┆ 50000.0      ┆ 2018-11-03          │\n",
       "│ 25%        ┆ 2.0         ┆ null  ┆ 29.0     ┆ null        ┆ 58000.0      ┆ 2019-08-14          │\n",
       "│ 50%        ┆ 3.0         ┆ null  ┆ 31.0     ┆ null        ┆ 60000.0      ┆ 2021-01-10          │\n",
       "│ 75%        ┆ 4.0         ┆ null  ┆ 34.0     ┆ null        ┆ 75000.0      ┆ 2022-06-27          │\n",
       "│ max        ┆ 5.0         ┆ Eve   ┆ 42.0     ┆ HR          ┆ 85000.0      ┆ 2023-05-21          │\n",
       "└────────────┴─────────────┴───────┴──────────┴─────────────┴──────────────┴─────────────────────┘"
      ]
     },
     "execution_count": 14,
     "metadata": {},
     "output_type": "execute_result"
    }
   ],
   "source": [
    "df.describe()"
   ]
  },
  {
   "cell_type": "code",
   "execution_count": 15,
   "id": "c95fcafd-4547-4a3b-b795-3d227a9b7e92",
   "metadata": {},
   "outputs": [
    {
     "data": {
      "text/html": [
       "<div><style>\n",
       ".dataframe > thead > tr,\n",
       ".dataframe > tbody > tr {\n",
       "  text-align: right;\n",
       "  white-space: pre-wrap;\n",
       "}\n",
       "</style>\n",
       "<small>shape: (5, 2)</small><table border=\"1\" class=\"dataframe\"><thead><tr><th>Name</th><th>Age</th></tr><tr><td>str</td><td>i64</td></tr></thead><tbody><tr><td>&quot;Alice&quot;</td><td>29</td></tr><tr><td>&quot;Bob&quot;</td><td>34</td></tr><tr><td>&quot;Charlie&quot;</td><td>31</td></tr><tr><td>&quot;David&quot;</td><td>28</td></tr><tr><td>&quot;Eve&quot;</td><td>42</td></tr></tbody></table></div>"
      ],
      "text/plain": [
       "shape: (5, 2)\n",
       "┌─────────┬─────┐\n",
       "│ Name    ┆ Age │\n",
       "│ ---     ┆ --- │\n",
       "│ str     ┆ i64 │\n",
       "╞═════════╪═════╡\n",
       "│ Alice   ┆ 29  │\n",
       "│ Bob     ┆ 34  │\n",
       "│ Charlie ┆ 31  │\n",
       "│ David   ┆ 28  │\n",
       "│ Eve     ┆ 42  │\n",
       "└─────────┴─────┘"
      ]
     },
     "execution_count": 15,
     "metadata": {},
     "output_type": "execute_result"
    }
   ],
   "source": [
    "df_selected = df.select([\"Name\",\"Age\"])\n",
    "df_selected"
   ]
  },
  {
   "cell_type": "code",
   "execution_count": 17,
   "id": "24bc3568-6866-413a-909b-ec9c06cabf05",
   "metadata": {},
   "outputs": [
    {
     "data": {
      "text/html": [
       "<div><style>\n",
       ".dataframe > thead > tr,\n",
       ".dataframe > tbody > tr {\n",
       "  text-align: right;\n",
       "  white-space: pre-wrap;\n",
       "}\n",
       "</style>\n",
       "<small>shape: (5, 2)</small><table border=\"1\" class=\"dataframe\"><thead><tr><th>Name</th><th>Salary</th></tr><tr><td>str</td><td>f64</td></tr></thead><tbody><tr><td>&quot;Alice&quot;</td><td>50000.0</td></tr><tr><td>&quot;Bob&quot;</td><td>75000.0</td></tr><tr><td>&quot;Charlie&quot;</td><td>60000.0</td></tr><tr><td>&quot;David&quot;</td><td>58000.0</td></tr><tr><td>&quot;Eve&quot;</td><td>85000.0</td></tr></tbody></table></div>"
      ],
      "text/plain": [
       "shape: (5, 2)\n",
       "┌─────────┬─────────┐\n",
       "│ Name    ┆ Salary  │\n",
       "│ ---     ┆ ---     │\n",
       "│ str     ┆ f64     │\n",
       "╞═════════╪═════════╡\n",
       "│ Alice   ┆ 50000.0 │\n",
       "│ Bob     ┆ 75000.0 │\n",
       "│ Charlie ┆ 60000.0 │\n",
       "│ David   ┆ 58000.0 │\n",
       "│ Eve     ┆ 85000.0 │\n",
       "└─────────┴─────────┘"
      ]
     },
     "execution_count": 17,
     "metadata": {},
     "output_type": "execute_result"
    }
   ],
   "source": [
    "df['Name', 'Salary']"
   ]
  },
  {
   "cell_type": "code",
   "execution_count": 18,
   "id": "d59de4e7-5c28-4485-b12c-d4d2a56316f6",
   "metadata": {},
   "outputs": [
    {
     "data": {
      "text/html": [
       "<div><style>\n",
       ".dataframe > thead > tr,\n",
       ".dataframe > tbody > tr {\n",
       "  text-align: right;\n",
       "  white-space: pre-wrap;\n",
       "}\n",
       "</style>\n",
       "<small>shape: (3, 6)</small><table border=\"1\" class=\"dataframe\"><thead><tr><th>Employee ID</th><th>Name</th><th>Age</th><th>Department</th><th>Salary</th><th>Start Date</th></tr><tr><td>i64</td><td>str</td><td>i64</td><td>str</td><td>f64</td><td>date</td></tr></thead><tbody><tr><td>2</td><td>&quot;Bob&quot;</td><td>34</td><td>&quot;Engineering&quot;</td><td>75000.0</td><td>2019-08-14</td></tr><tr><td>3</td><td>&quot;Charlie&quot;</td><td>31</td><td>&quot;Finance&quot;</td><td>60000.0</td><td>2021-01-10</td></tr><tr><td>5</td><td>&quot;Eve&quot;</td><td>42</td><td>&quot;Finance&quot;</td><td>85000.0</td><td>2022-06-27</td></tr></tbody></table></div>"
      ],
      "text/plain": [
       "shape: (3, 6)\n",
       "┌─────────────┬─────────┬─────┬─────────────┬─────────┬────────────┐\n",
       "│ Employee ID ┆ Name    ┆ Age ┆ Department  ┆ Salary  ┆ Start Date │\n",
       "│ ---         ┆ ---     ┆ --- ┆ ---         ┆ ---     ┆ ---        │\n",
       "│ i64         ┆ str     ┆ i64 ┆ str         ┆ f64     ┆ date       │\n",
       "╞═════════════╪═════════╪═════╪═════════════╪═════════╪════════════╡\n",
       "│ 2           ┆ Bob     ┆ 34  ┆ Engineering ┆ 75000.0 ┆ 2019-08-14 │\n",
       "│ 3           ┆ Charlie ┆ 31  ┆ Finance     ┆ 60000.0 ┆ 2021-01-10 │\n",
       "│ 5           ┆ Eve     ┆ 42  ┆ Finance     ┆ 85000.0 ┆ 2022-06-27 │\n",
       "└─────────────┴─────────┴─────┴─────────────┴─────────┴────────────┘"
      ]
     },
     "execution_count": 18,
     "metadata": {},
     "output_type": "execute_result"
    }
   ],
   "source": [
    "df.filter(pl.col(\"Age\") >= 30)"
   ]
  },
  {
   "cell_type": "code",
   "execution_count": 19,
   "id": "fe22e354-c829-4b30-940c-7edecb287280",
   "metadata": {},
   "outputs": [
    {
     "data": {
      "text/html": [
       "<div><style>\n",
       ".dataframe > thead > tr,\n",
       ".dataframe > tbody > tr {\n",
       "  text-align: right;\n",
       "  white-space: pre-wrap;\n",
       "}\n",
       "</style>\n",
       "<small>shape: (2, 6)</small><table border=\"1\" class=\"dataframe\"><thead><tr><th>Employee ID</th><th>Name</th><th>Age</th><th>Department</th><th>Salary</th><th>Start Date</th></tr><tr><td>i64</td><td>str</td><td>i64</td><td>str</td><td>f64</td><td>date</td></tr></thead><tbody><tr><td>3</td><td>&quot;Charlie&quot;</td><td>31</td><td>&quot;Finance&quot;</td><td>60000.0</td><td>2021-01-10</td></tr><tr><td>5</td><td>&quot;Eve&quot;</td><td>42</td><td>&quot;Finance&quot;</td><td>85000.0</td><td>2022-06-27</td></tr></tbody></table></div>"
      ],
      "text/plain": [
       "shape: (2, 6)\n",
       "┌─────────────┬─────────┬─────┬────────────┬─────────┬────────────┐\n",
       "│ Employee ID ┆ Name    ┆ Age ┆ Department ┆ Salary  ┆ Start Date │\n",
       "│ ---         ┆ ---     ┆ --- ┆ ---        ┆ ---     ┆ ---        │\n",
       "│ i64         ┆ str     ┆ i64 ┆ str        ┆ f64     ┆ date       │\n",
       "╞═════════════╪═════════╪═════╪════════════╪═════════╪════════════╡\n",
       "│ 3           ┆ Charlie ┆ 31  ┆ Finance    ┆ 60000.0 ┆ 2021-01-10 │\n",
       "│ 5           ┆ Eve     ┆ 42  ┆ Finance    ┆ 85000.0 ┆ 2022-06-27 │\n",
       "└─────────────┴─────────┴─────┴────────────┴─────────┴────────────┘"
      ]
     },
     "execution_count": 19,
     "metadata": {},
     "output_type": "execute_result"
    }
   ],
   "source": [
    "df.filter(pl.col(\"Department\") == 'Finance')"
   ]
  },
  {
   "cell_type": "code",
   "execution_count": 20,
   "id": "72b00717-841b-458d-8168-333782da6566",
   "metadata": {},
   "outputs": [
    {
     "data": {
      "text/html": [
       "<div><style>\n",
       ".dataframe > thead > tr,\n",
       ".dataframe > tbody > tr {\n",
       "  text-align: right;\n",
       "  white-space: pre-wrap;\n",
       "}\n",
       "</style>\n",
       "<small>shape: (1, 6)</small><table border=\"1\" class=\"dataframe\"><thead><tr><th>Employee ID</th><th>Name</th><th>Age</th><th>Department</th><th>Salary</th><th>Start Date</th></tr><tr><td>i64</td><td>str</td><td>i64</td><td>str</td><td>f64</td><td>date</td></tr></thead><tbody><tr><td>5</td><td>&quot;Eve&quot;</td><td>42</td><td>&quot;Finance&quot;</td><td>85000.0</td><td>2022-06-27</td></tr></tbody></table></div>"
      ],
      "text/plain": [
       "shape: (1, 6)\n",
       "┌─────────────┬──────┬─────┬────────────┬─────────┬────────────┐\n",
       "│ Employee ID ┆ Name ┆ Age ┆ Department ┆ Salary  ┆ Start Date │\n",
       "│ ---         ┆ ---  ┆ --- ┆ ---        ┆ ---     ┆ ---        │\n",
       "│ i64         ┆ str  ┆ i64 ┆ str        ┆ f64     ┆ date       │\n",
       "╞═════════════╪══════╪═════╪════════════╪═════════╪════════════╡\n",
       "│ 5           ┆ Eve  ┆ 42  ┆ Finance    ┆ 85000.0 ┆ 2022-06-27 │\n",
       "└─────────────┴──────┴─────┴────────────┴─────────┴────────────┘"
      ]
     },
     "execution_count": 20,
     "metadata": {},
     "output_type": "execute_result"
    }
   ],
   "source": [
    "df.filter(pl.col(\"Department\") == 'Finance', pl.col(\"Salary\") > 60000)"
   ]
  },
  {
   "cell_type": "code",
   "execution_count": 25,
   "id": "d38125bb-814c-4430-b414-0ace5c0c0039",
   "metadata": {},
   "outputs": [
    {
     "data": {
      "text/html": [
       "<div><style>\n",
       ".dataframe > thead > tr,\n",
       ".dataframe > tbody > tr {\n",
       "  text-align: right;\n",
       "  white-space: pre-wrap;\n",
       "}\n",
       "</style>\n",
       "<small>shape: (1, 6)</small><table border=\"1\" class=\"dataframe\"><thead><tr><th>Employee ID</th><th>Name</th><th>Age</th><th>Department</th><th>Salary</th><th>Start Date</th></tr><tr><td>i64</td><td>str</td><td>i64</td><td>str</td><td>f64</td><td>date</td></tr></thead><tbody><tr><td>5</td><td>&quot;Eve&quot;</td><td>42</td><td>&quot;Finance&quot;</td><td>85000.0</td><td>2022-06-27</td></tr></tbody></table></div>"
      ],
      "text/plain": [
       "shape: (1, 6)\n",
       "┌─────────────┬──────┬─────┬────────────┬─────────┬────────────┐\n",
       "│ Employee ID ┆ Name ┆ Age ┆ Department ┆ Salary  ┆ Start Date │\n",
       "│ ---         ┆ ---  ┆ --- ┆ ---        ┆ ---     ┆ ---        │\n",
       "│ i64         ┆ str  ┆ i64 ┆ str        ┆ f64     ┆ date       │\n",
       "╞═════════════╪══════╪═════╪════════════╪═════════╪════════════╡\n",
       "│ 5           ┆ Eve  ┆ 42  ┆ Finance    ┆ 85000.0 ┆ 2022-06-27 │\n",
       "└─────────────┴──────┴─────┴────────────┴─────────┴────────────┘"
      ]
     },
     "execution_count": 25,
     "metadata": {},
     "output_type": "execute_result"
    }
   ],
   "source": [
    "df.filter(pl.col(\"Department\") == 'Finance', pl.col(\"Start Date\") > date(2022,1,1))"
   ]
  },
  {
   "cell_type": "code",
   "execution_count": 26,
   "id": "d9790a86-d4e2-4568-a646-f5fb5f0bc6bf",
   "metadata": {},
   "outputs": [
    {
     "data": {
      "text/html": [
       "<div><style>\n",
       ".dataframe > thead > tr,\n",
       ".dataframe > tbody > tr {\n",
       "  text-align: right;\n",
       "  white-space: pre-wrap;\n",
       "}\n",
       "</style>\n",
       "<small>shape: (1, 6)</small><table border=\"1\" class=\"dataframe\"><thead><tr><th>Employee ID</th><th>Name</th><th>Age</th><th>Department</th><th>Salary</th><th>Start Date</th></tr><tr><td>i64</td><td>str</td><td>i64</td><td>str</td><td>f64</td><td>date</td></tr></thead><tbody><tr><td>5</td><td>&quot;Eve&quot;</td><td>42</td><td>&quot;Finance&quot;</td><td>85000.0</td><td>2022-06-27</td></tr></tbody></table></div>"
      ],
      "text/plain": [
       "shape: (1, 6)\n",
       "┌─────────────┬──────┬─────┬────────────┬─────────┬────────────┐\n",
       "│ Employee ID ┆ Name ┆ Age ┆ Department ┆ Salary  ┆ Start Date │\n",
       "│ ---         ┆ ---  ┆ --- ┆ ---        ┆ ---     ┆ ---        │\n",
       "│ i64         ┆ str  ┆ i64 ┆ str        ┆ f64     ┆ date       │\n",
       "╞═════════════╪══════╪═════╪════════════╪═════════╪════════════╡\n",
       "│ 5           ┆ Eve  ┆ 42  ┆ Finance    ┆ 85000.0 ┆ 2022-06-27 │\n",
       "└─────────────┴──────┴─────┴────────────┴─────────┴────────────┘"
      ]
     },
     "execution_count": 26,
     "metadata": {},
     "output_type": "execute_result"
    }
   ],
   "source": [
    "df.filter(pl.col(\"Start Date\") > date(2022,1,1), pl.col(\"Start Date\") < date(2023,1,1))"
   ]
  },
  {
   "cell_type": "code",
   "execution_count": 27,
   "id": "3cc5d234-73b4-49f1-b365-fdaa43c84a93",
   "metadata": {},
   "outputs": [
    {
     "data": {
      "text/html": [
       "<div><style>\n",
       ".dataframe > thead > tr,\n",
       ".dataframe > tbody > tr {\n",
       "  text-align: right;\n",
       "  white-space: pre-wrap;\n",
       "}\n",
       "</style>\n",
       "<small>shape: (1, 6)</small><table border=\"1\" class=\"dataframe\"><thead><tr><th>Employee ID</th><th>Name</th><th>Age</th><th>Department</th><th>Salary</th><th>Start Date</th></tr><tr><td>i64</td><td>str</td><td>i64</td><td>str</td><td>f64</td><td>date</td></tr></thead><tbody><tr><td>5</td><td>&quot;Eve&quot;</td><td>42</td><td>&quot;Finance&quot;</td><td>85000.0</td><td>2022-06-27</td></tr></tbody></table></div>"
      ],
      "text/plain": [
       "shape: (1, 6)\n",
       "┌─────────────┬──────┬─────┬────────────┬─────────┬────────────┐\n",
       "│ Employee ID ┆ Name ┆ Age ┆ Department ┆ Salary  ┆ Start Date │\n",
       "│ ---         ┆ ---  ┆ --- ┆ ---        ┆ ---     ┆ ---        │\n",
       "│ i64         ┆ str  ┆ i64 ┆ str        ┆ f64     ┆ date       │\n",
       "╞═════════════╪══════╪═════╪════════════╪═════════╪════════════╡\n",
       "│ 5           ┆ Eve  ┆ 42  ┆ Finance    ┆ 85000.0 ┆ 2022-06-27 │\n",
       "└─────────────┴──────┴─────┴────────────┴─────────┴────────────┘"
      ]
     },
     "execution_count": 27,
     "metadata": {},
     "output_type": "execute_result"
    }
   ],
   "source": [
    "df.filter((pl.col(\"Start Date\") > date(2022,1,1)) & (pl.col(\"Start Date\") < date(2023,1,1)))"
   ]
  },
  {
   "cell_type": "code",
   "execution_count": null,
   "id": "bf9c1347-4fef-46ca-bcdb-44f4e99676ab",
   "metadata": {},
   "outputs": [],
   "source": []
  },
  {
   "cell_type": "code",
   "execution_count": null,
   "id": "e5dbcffa-2738-47db-87a3-6a80d0c6fcc8",
   "metadata": {},
   "outputs": [],
   "source": []
  },
  {
   "cell_type": "code",
   "execution_count": null,
   "id": "b5e8250e-de69-470c-8d98-944b657e52db",
   "metadata": {},
   "outputs": [],
   "source": []
  },
  {
   "cell_type": "code",
   "execution_count": null,
   "id": "827037dd-1759-4ad2-924a-0079cbb96325",
   "metadata": {},
   "outputs": [],
   "source": []
  },
  {
   "cell_type": "code",
   "execution_count": null,
   "id": "56983c33-5fcb-4627-866d-44c5d06435ae",
   "metadata": {},
   "outputs": [],
   "source": []
  },
  {
   "cell_type": "code",
   "execution_count": null,
   "id": "5a3e3711-2d68-4498-aac7-87d7454eb5e2",
   "metadata": {},
   "outputs": [],
   "source": []
  },
  {
   "cell_type": "code",
   "execution_count": null,
   "id": "2484e071-6d9e-48d3-82bc-f899dfe6a565",
   "metadata": {},
   "outputs": [],
   "source": []
  },
  {
   "cell_type": "code",
   "execution_count": null,
   "id": "77ce50f4-6cb4-47a6-b2e3-a2437adec635",
   "metadata": {},
   "outputs": [],
   "source": []
  },
  {
   "cell_type": "code",
   "execution_count": null,
   "id": "e0485057-e3aa-4329-a904-56323755fe1e",
   "metadata": {},
   "outputs": [],
   "source": []
  },
  {
   "cell_type": "code",
   "execution_count": null,
   "id": "e131e7d0-1f5a-469b-9d0b-33d46536abde",
   "metadata": {},
   "outputs": [],
   "source": []
  },
  {
   "cell_type": "code",
   "execution_count": null,
   "id": "b6d6dc52-b215-4703-a22d-292c524c534f",
   "metadata": {},
   "outputs": [],
   "source": []
  },
  {
   "cell_type": "code",
   "execution_count": null,
   "id": "043ceddc-1cde-45b9-b911-d94ae916c750",
   "metadata": {},
   "outputs": [],
   "source": []
  }
 ],
 "metadata": {
  "kernelspec": {
   "display_name": "Python 3 (ipykernel)",
   "language": "python",
   "name": "python3"
  },
  "language_info": {
   "codemirror_mode": {
    "name": "ipython",
    "version": 3
   },
   "file_extension": ".py",
   "mimetype": "text/x-python",
   "name": "python",
   "nbconvert_exporter": "python",
   "pygments_lexer": "ipython3",
   "version": "3.12.11"
  }
 },
 "nbformat": 4,
 "nbformat_minor": 5
}
