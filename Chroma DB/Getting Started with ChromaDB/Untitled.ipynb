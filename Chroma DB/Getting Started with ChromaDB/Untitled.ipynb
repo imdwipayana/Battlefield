{
 "cells": [
  {
   "cell_type": "code",
   "execution_count": 1,
   "id": "5f518e65-8520-4112-8c5f-d0b9b60c6792",
   "metadata": {},
   "outputs": [],
   "source": [
    "# Source: https://github.com/johnnycode8/chromadb_quickstart/blob/main/chroma_quickstart.ipynb"
   ]
  },
  {
   "cell_type": "code",
   "execution_count": 3,
   "id": "9aec800e-9188-45a0-a9ba-e2d1bc766d5f",
   "metadata": {},
   "outputs": [],
   "source": [
    "# Insttall chromadb\n",
    "# pip install chromadb\n",
    "\n",
    "# Install sentence transformers\n",
    "# This will convert text to vector embeddings. In the other words, it converts text into a bunch of numbers that represent the 'meaning' of the text.\n",
    "# pip install sentence-transformers"
   ]
  },
  {
   "cell_type": "code",
   "execution_count": 5,
   "id": "66560952-4e2e-4047-914c-dff539ca129d",
   "metadata": {},
   "outputs": [],
   "source": [
    "# https://docs.trychroma.com/docs/overview/getting-started\n",
    "\n",
    "import chromadb\n",
    "from chromadb.utils import embedding_functions\n",
    "\n",
    "# Instantiate chromadb instance. data is stored in memory only.\n",
    "# chroma_client = chromadb.Client()\n",
    "\n",
    "# Instantiate chromadb instance. Data is stored on disk (a folder named 'my_vectordb' will be created in the same folder as this file).\n",
    "chroma_client = chromadb.PersistentClient(path=\"my_vectordb\")"
   ]
  },
  {
   "cell_type": "code",
   "execution_count": 7,
   "id": "a002d542-6791-4b82-b848-dedd2e87be6d",
   "metadata": {},
   "outputs": [],
   "source": [
    "# Select the embedding model to use\n",
    "# List of model names can be found here: https://www.sbert.net/docs/pretrained_models.html\n",
    "sentence_transformer_ef = embedding_functions.SentenceTransformerEmbeddingFunction(model_name=\"all-mpnet-base-v2\")\n",
    "\n",
    "# Use this to delete the database\n",
    "# chroma_client.delete_collection(name=\"my_collection\")\n",
    "\n",
    "# Create the collection, aka vector database. Or, if database already exists, then use it. Specify the model that we want to use to do the embedding.\n",
    "collection = chroma_client.get_or_create_collection(name=\"my_collection\", embedding_function=sentence_transformer_ef)"
   ]
  },
  {
   "cell_type": "code",
   "execution_count": null,
   "id": "b04119f9-c192-44ad-b99d-f7b49337e755",
   "metadata": {},
   "outputs": [],
   "source": [
    "import csv\n",
    "\n",
    "# Load sample data (a restaurant menu of items)\n",
    "with open('menu_items.csv') as file:\n",
    "    lines = csv.reader(file)\n",
    "\n",
    "    # Store the name of the menu items in this array. In Chroma, a \"document\" is a string i.e. name, sentence, paragraph, etc.\n",
    "    documents = []\n",
    "\n",
    "    # Store the corresponding menu item IDs in this array.\n",
    "    metadatas = []\n",
    "\n",
    "    # Each \"document\" needs a unique ID. This is like the primary key of a relational database. We'll start at 1 and increment from there.\n",
    "    ids = []\n",
    "    id = 1\n",
    "\n",
    "    # Loop thru each line and populate the 3 arrays.\n",
    "    for i, line in enumerate(lines):\n",
    "        if i==0:\n",
    "            # Skip the first row (the column headers)\n",
    "            continue\n",
    "\n",
    "        documents.append(line[1])\n",
    "        metadatas.append({\"item_id\": line[0]})\n",
    "        ids.append(str(id))\n",
    "        id+=1"
   ]
  },
  {
   "cell_type": "code",
   "execution_count": 12,
   "id": "21677356-3202-4e78-b6fe-31b3fec64b64",
   "metadata": {},
   "outputs": [
    {
     "ename": "NameError",
     "evalue": "name 'documents' is not defined",
     "output_type": "error",
     "traceback": [
      "\u001b[31m---------------------------------------------------------------------------\u001b[39m",
      "\u001b[31mNameError\u001b[39m                                 Traceback (most recent call last)",
      "\u001b[36mCell\u001b[39m\u001b[36m \u001b[39m\u001b[32mIn[12]\u001b[39m\u001b[32m, line 3\u001b[39m\n\u001b[32m      1\u001b[39m \u001b[38;5;66;03m# Add all the data to the vector database. Chromadb automatically converts and stores the text as vector embeddings. This may take a few minutes.\u001b[39;00m\n\u001b[32m      2\u001b[39m collection.add(\n\u001b[32m----> \u001b[39m\u001b[32m3\u001b[39m     documents = documents,\n\u001b[32m      4\u001b[39m     metadatas = metadatas,\n\u001b[32m      5\u001b[39m     ids = ids\n\u001b[32m      6\u001b[39m )\n",
      "\u001b[31mNameError\u001b[39m: name 'documents' is not defined"
     ]
    }
   ],
   "source": [
    "# Add all the data to the vector database. Chromadb automatically converts and stores the text as vector embeddings. This may take a few minutes.\n",
    "collection.add(\n",
    "    documents = documents,\n",
    "    metadatas = metadatas,\n",
    "    ids = ids\n",
    ")"
   ]
  },
  {
   "cell_type": "code",
   "execution_count": null,
   "id": "bef55356-c717-43db-b8b6-4e1289047ef8",
   "metadata": {},
   "outputs": [],
   "source": []
  },
  {
   "cell_type": "code",
   "execution_count": null,
   "id": "f5ad12ea-20ef-4858-8a17-58b2ffb2c3dc",
   "metadata": {},
   "outputs": [],
   "source": []
  },
  {
   "cell_type": "code",
   "execution_count": null,
   "id": "e48fb176-4131-45b6-847b-5814a78f64fb",
   "metadata": {},
   "outputs": [],
   "source": []
  },
  {
   "cell_type": "code",
   "execution_count": null,
   "id": "6edd1861-1066-4c54-8094-a14485dca3d7",
   "metadata": {},
   "outputs": [],
   "source": []
  },
  {
   "cell_type": "code",
   "execution_count": null,
   "id": "178265c2-4f86-4df0-8c53-7687f8b79e42",
   "metadata": {},
   "outputs": [],
   "source": []
  },
  {
   "cell_type": "code",
   "execution_count": null,
   "id": "2e8233f6-20b9-498b-98fc-39c352167b75",
   "metadata": {},
   "outputs": [],
   "source": []
  },
  {
   "cell_type": "code",
   "execution_count": null,
   "id": "df55fc8e-5f7a-4632-ad85-bbf704dc24fa",
   "metadata": {},
   "outputs": [],
   "source": []
  },
  {
   "cell_type": "code",
   "execution_count": null,
   "id": "3d7f7b6f-ac32-414a-9d86-11069b527122",
   "metadata": {},
   "outputs": [],
   "source": []
  },
  {
   "cell_type": "code",
   "execution_count": null,
   "id": "dad692f8-4dea-4fb7-bfdd-df9cfd61cdb3",
   "metadata": {},
   "outputs": [],
   "source": []
  },
  {
   "cell_type": "code",
   "execution_count": null,
   "id": "40217fe6-33eb-461a-ad58-12088832923c",
   "metadata": {},
   "outputs": [],
   "source": []
  },
  {
   "cell_type": "code",
   "execution_count": null,
   "id": "71bcbcef-77b9-4706-a69c-64a7861ef8f4",
   "metadata": {},
   "outputs": [],
   "source": []
  },
  {
   "cell_type": "code",
   "execution_count": null,
   "id": "6ea56b5a-7c5d-40a8-89f4-6dedfc1af029",
   "metadata": {},
   "outputs": [],
   "source": []
  }
 ],
 "metadata": {
  "kernelspec": {
   "display_name": "Python [conda env:anaconda3-ChromaDB]",
   "language": "python",
   "name": "conda-env-anaconda3-ChromaDB-py"
  },
  "language_info": {
   "codemirror_mode": {
    "name": "ipython",
    "version": 3
   },
   "file_extension": ".py",
   "mimetype": "text/x-python",
   "name": "python",
   "nbconvert_exporter": "python",
   "pygments_lexer": "ipython3",
   "version": "3.12.11"
  }
 },
 "nbformat": 4,
 "nbformat_minor": 5
}
