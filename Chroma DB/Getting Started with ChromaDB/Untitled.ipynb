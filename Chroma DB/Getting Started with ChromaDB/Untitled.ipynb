{
 "cells": [
  {
   "cell_type": "code",
   "execution_count": 1,
   "id": "5f518e65-8520-4112-8c5f-d0b9b60c6792",
   "metadata": {},
   "outputs": [],
   "source": [
    "# Source: https://github.com/johnnycode8/chromadb_quickstart/blob/main/chroma_quickstart.ipynb"
   ]
  },
  {
   "cell_type": "code",
   "execution_count": 3,
   "id": "9aec800e-9188-45a0-a9ba-e2d1bc766d5f",
   "metadata": {},
   "outputs": [],
   "source": [
    "# Insttall chromadb\n",
    "# pip install chromadb\n",
    "\n",
    "# Install sentence transformers\n",
    "# This will convert text to vector embeddings. In the other words, it converts text into a bunch of numbers that represent the 'meaning' of the text.\n",
    "# pip install sentence-transformers"
   ]
  },
  {
   "cell_type": "code",
   "execution_count": 5,
   "id": "66560952-4e2e-4047-914c-dff539ca129d",
   "metadata": {},
   "outputs": [],
   "source": [
    "# https://docs.trychroma.com/docs/overview/getting-started\n",
    "\n",
    "import chromadb\n",
    "from chromadb.utils import embedding_functions\n",
    "\n",
    "# Instantiate chromadb instance. data is stored in memory only.\n",
    "# chroma_client = chromadb.Client()\n",
    "\n",
    "# Instantiate chromadb instance. Data is stored on disk (a folder named 'my_vectordb' will be created in the same folder as this file).\n",
    "chroma_client = chromadb.PersistentClient(path=\"my_vectordb\")"
   ]
  },
  {
   "cell_type": "code",
   "execution_count": null,
   "id": "a002d542-6791-4b82-b848-dedd2e87be6d",
   "metadata": {},
   "outputs": [],
   "source": [
    "# Select the embedding model to use"
   ]
  },
  {
   "cell_type": "code",
   "execution_count": null,
   "id": "6ea56b5a-7c5d-40a8-89f4-6dedfc1af029",
   "metadata": {},
   "outputs": [],
   "source": []
  }
 ],
 "metadata": {
  "kernelspec": {
   "display_name": "Python [conda env:anaconda3-ChromaDB]",
   "language": "python",
   "name": "conda-env-anaconda3-ChromaDB-py"
  },
  "language_info": {
   "codemirror_mode": {
    "name": "ipython",
    "version": 3
   },
   "file_extension": ".py",
   "mimetype": "text/x-python",
   "name": "python",
   "nbconvert_exporter": "python",
   "pygments_lexer": "ipython3",
   "version": "3.12.11"
  }
 },
 "nbformat": 4,
 "nbformat_minor": 5
}
