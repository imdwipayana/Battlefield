{
 "cells": [
  {
   "cell_type": "code",
   "execution_count": 1,
   "id": "a8dc7b13-8fe1-4355-b2f3-9a10d2664009",
   "metadata": {},
   "outputs": [],
   "source": [
    "#Source:https://www.youtube.com/watch?v=QSW2L8dkaZk\n",
    "#https://docs.trychroma.com/docs/overview/getting-started"
   ]
  },
  {
   "cell_type": "code",
   "execution_count": 17,
   "id": "a6efc54f-ae0f-41e2-b05f-f7fb42836353",
   "metadata": {},
   "outputs": [],
   "source": [
    "import chromadb"
   ]
  },
  {
   "cell_type": "code",
   "execution_count": 19,
   "id": "2960e174-8474-41be-9c62-cb018c43cb60",
   "metadata": {},
   "outputs": [],
   "source": [
    "chroma_client = chromadb.Client()"
   ]
  },
  {
   "cell_type": "code",
   "execution_count": 21,
   "id": "5b907404-fde2-477c-b9b5-96af941a8bad",
   "metadata": {},
   "outputs": [],
   "source": [
    "collection = chroma_client.create_collection(name=\"my_collection\")"
   ]
  },
  {
   "cell_type": "code",
   "execution_count": 23,
   "id": "bb6848ea-1b77-4518-a739-e6101c375727",
   "metadata": {},
   "outputs": [],
   "source": [
    "collection.add(\n",
    "    ids=[\"id1\", \"id2\"],\n",
    "    documents=[\n",
    "        \"This is a document about pineapple\",\n",
    "        \"This is a document about oranges\"\n",
    "    ]\n",
    ")\n"
   ]
  },
  {
   "cell_type": "code",
   "execution_count": 25,
   "id": "8da0fdac-d852-49a4-8b8d-09a8bb233f19",
   "metadata": {},
   "outputs": [
    {
     "name": "stdout",
     "output_type": "stream",
     "text": [
      "{'ids': [['id1', 'id2']], 'embeddings': None, 'documents': [['This is a document about pineapple', 'This is a document about oranges']], 'uris': None, 'included': ['metadatas', 'documents', 'distances'], 'data': None, 'metadatas': [[None, None]], 'distances': [[1.0404009819030762, 1.2430799007415771]]}\n"
     ]
    }
   ],
   "source": [
    "results = collection.query(\n",
    "    query_texts=[\"This is a query document about hawaii\"], # Chroma will embed this for you\n",
    "    n_results=2 # how many results to return\n",
    ")\n",
    "print(results)\n"
   ]
  },
  {
   "cell_type": "code",
   "execution_count": 27,
   "id": "58c23f3b-94de-45b7-95d8-eef76ee88de3",
   "metadata": {},
   "outputs": [
    {
     "data": {
      "text/plain": [
       "{'documents': [['This is a document about pineapple',\n",
       "   'This is a document about oranges']],\n",
       " 'ids': [['id1', 'id2']],\n",
       " 'distances': [[1.0404009819030762, 1.243080496788025]],\n",
       " 'uris': None,\n",
       " 'data': None,\n",
       " 'metadatas': [[None, None]],\n",
       " 'embeddings': None}"
      ]
     },
     "execution_count": 27,
     "metadata": {},
     "output_type": "execute_result"
    }
   ],
   "source": [
    "{\n",
    "  'documents': [[\n",
    "      'This is a document about pineapple',\n",
    "      'This is a document about oranges'\n",
    "  ]],\n",
    "  'ids': [['id1', 'id2']],\n",
    "  'distances': [[1.0404009819030762, 1.243080496788025]],\n",
    "  'uris': None,\n",
    "  'data': None,\n",
    "  'metadatas': [[None, None]],\n",
    "  'embeddings': None,\n",
    "}\n"
   ]
  },
  {
   "cell_type": "code",
   "execution_count": null,
   "id": "09cc2c36-bd2a-4ce2-80e2-697db653330c",
   "metadata": {},
   "outputs": [],
   "source": []
  },
  {
   "cell_type": "code",
   "execution_count": null,
   "id": "be62c642-da08-436b-b55c-f04870b5d9a3",
   "metadata": {},
   "outputs": [],
   "source": []
  },
  {
   "cell_type": "code",
   "execution_count": null,
   "id": "07f14da6-c8db-468f-a7bf-8f78a91948dc",
   "metadata": {},
   "outputs": [],
   "source": []
  },
  {
   "cell_type": "code",
   "execution_count": null,
   "id": "2315926e-739a-4e0a-8563-6bd8ad30a453",
   "metadata": {},
   "outputs": [],
   "source": []
  },
  {
   "cell_type": "code",
   "execution_count": null,
   "id": "f911f999-3b99-40c4-bd5e-b875a50ea85e",
   "metadata": {},
   "outputs": [],
   "source": []
  },
  {
   "cell_type": "code",
   "execution_count": null,
   "id": "16c8ea2d-18bf-4342-b4d6-2407835ca8b5",
   "metadata": {},
   "outputs": [],
   "source": []
  },
  {
   "cell_type": "code",
   "execution_count": null,
   "id": "ba892ada-096c-4ebe-a3a6-efeb11b22a8c",
   "metadata": {},
   "outputs": [],
   "source": []
  },
  {
   "cell_type": "code",
   "execution_count": null,
   "id": "b2ba5355-d1de-438a-9439-093b4eac21c7",
   "metadata": {},
   "outputs": [],
   "source": []
  },
  {
   "cell_type": "code",
   "execution_count": null,
   "id": "7a3c58c4-9250-4626-9436-facccc043f3e",
   "metadata": {},
   "outputs": [],
   "source": []
  }
 ],
 "metadata": {
  "kernelspec": {
   "display_name": "Python [conda env:anaconda3-ChromaDB]",
   "language": "python",
   "name": "conda-env-anaconda3-ChromaDB-py"
  },
  "language_info": {
   "codemirror_mode": {
    "name": "ipython",
    "version": 3
   },
   "file_extension": ".py",
   "mimetype": "text/x-python",
   "name": "python",
   "nbconvert_exporter": "python",
   "pygments_lexer": "ipython3",
   "version": "3.12.11"
  }
 },
 "nbformat": 4,
 "nbformat_minor": 5
}
