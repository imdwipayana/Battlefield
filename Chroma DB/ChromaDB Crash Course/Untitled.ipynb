{
 "cells": [
  {
   "cell_type": "code",
   "execution_count": null,
   "id": "8275a1b2-3f82-4279-afdd-1a176533e8d8",
   "metadata": {},
   "outputs": [],
   "source": []
  }
 ],
 "metadata": {
  "kernelspec": {
   "display_name": "",
   "name": ""
  },
  "language_info": {
   "name": ""
  }
 },
 "nbformat": 4,
 "nbformat_minor": 5
}
