{
 "cells": [
  {
   "cell_type": "code",
   "execution_count": 3,
   "id": "d7a4bab0-c707-4806-8e1c-9eb8272e5d16",
   "metadata": {},
   "outputs": [
    {
     "ename": "SyntaxError",
     "evalue": "invalid syntax (3545920667.py, line 1)",
     "output_type": "error",
     "traceback": [
      "  \u001b[36mCell\u001b[39m\u001b[36m \u001b[39m\u001b[32mIn[3]\u001b[39m\u001b[32m, line 1\u001b[39m\n\u001b[31m    \u001b[39m\u001b[31mexport TF_ENABLE_ONEDNN_OPTS=0\u001b[39m\n           ^\n\u001b[31mSyntaxError\u001b[39m\u001b[31m:\u001b[39m invalid syntax\n"
     ]
    }
   ],
   "source": [
    "export TF_ENABLE_ONEDNN_OPTS=0"
   ]
  },
  {
   "cell_type": "code",
   "execution_count": 5,
   "id": "185ea17c-7294-4d21-b772-fcc159b63f18",
   "metadata": {},
   "outputs": [
    {
     "ename": "SyntaxError",
     "evalue": "invalid syntax (3011202380.py, line 1)",
     "output_type": "error",
     "traceback": [
      "  \u001b[36mCell\u001b[39m\u001b[36m \u001b[39m\u001b[32mIn[5]\u001b[39m\u001b[32m, line 1\u001b[39m\n\u001b[31m    \u001b[39m\u001b[31mexport TF_CPP_MIN_LOG_LEVEL=2\u001b[39m\n           ^\n\u001b[31mSyntaxError\u001b[39m\u001b[31m:\u001b[39m invalid syntax\n"
     ]
    }
   ],
   "source": [
    "export TF_CPP_MIN_LOG_LEVEL=2"
   ]
  },
  {
   "cell_type": "code",
   "execution_count": null,
   "id": "3d8f436e-9077-47a2-9129-5e36df1e8690",
   "metadata": {},
   "outputs": [
    {
     "name": "stdout",
     "output_type": "stream",
     "text": [
      "WARNING:tensorflow:From C:\\Users\\ekadw\\anaconda3\\envs\\PostgreSQL\\Lib\\site-packages\\tf_keras\\src\\losses.py:2976: The name tf.losses.sparse_softmax_cross_entropy is deprecated. Please use tf.compat.v1.losses.sparse_softmax_cross_entropy instead.\n",
      "\n",
      "WARNING:tensorflow:From C:\\Users\\ekadw\\anaconda3\\envs\\PostgreSQL\\Lib\\site-packages\\tensorflow_hub\\resolver.py:120: The name tf.gfile.MakeDirs is deprecated. Please use tf.io.gfile.makedirs instead.\n",
      "\n"
     ]
    },
    {
     "name": "stderr",
     "output_type": "stream",
     "text": [
      "WARNING:tensorflow:From C:\\Users\\ekadw\\anaconda3\\envs\\PostgreSQL\\Lib\\site-packages\\tensorflow_hub\\resolver.py:120: The name tf.gfile.MakeDirs is deprecated. Please use tf.io.gfile.makedirs instead.\n",
      "\n"
     ]
    }
   ],
   "source": [
    "import psycopg2\n",
    "from psycopg2 import Error\n",
    "import tensorflow_hub as hub\n",
    "model = hub.load(\"https://tfhub.dev/google/universal-sentence-encoder/4\")\n",
    "print(\"Model loaded successfully\")\n",
    "\n",
    "# PostgreSQL database configuration\n",
    "config = {\n",
    "    'host': 'localhost',\n",
    "    'database': 'postgres',\n",
    "    'user': 'postgres',\n",
    "    'password': 'PASSWORD', # Replace the password with the password of your postgres instance\n",
    "    'port': 5432\n",
    "}\n",
    "\n",
    "# Sample sentences\n",
    "sentences = ['Go to Try IBM watsonx.ai or Try watsonx.governance. If you sign up for watsonx.governance, you automatically provision watsonx.ai as well.',\n",
    "                                  'Yes, when you sign up for IBM watsonx.ai, you automatically provision the free version of the underlying services: Watson Studio, Watson Machine Learning, and IBM Cloud Object Storage. When you sign up for IBM watsonx.governance, you automatically provision the free version of Watson OpenScale and the free versions of the services for IBM watsonx.ai.',\n",
    "                                  'When you are ready to upgrade any of the underlying services for watsonx.ai or watsonx.governance, you can upgrade in place without losing any of your work or data. You must be the owner or administrator of the IBM Cloud account for a service to upgrade it. See Upgrading services on watsonx.'\n",
    "]\n",
    "\n",
    "\n",
    "def vectorize(sentence):\n",
    "    return model([sentence])[0].numpy().tolist()\n",
    "\n",
    "def add_data():\n",
    "    try:\n",
    "        # Connect to PostgreSQL database\n",
    "        connection = psycopg2.connect(**config)\n",
    "\n",
    "        # Create a cursor object\n",
    "        cursor = connection.cursor()\n",
    "\n",
    "        # Define SQL query to create table\n",
    "        create_table_query = '''\n",
    "            CREATE TABLE IF NOT EXISTS mysentences (\n",
    "                id SERIAL PRIMARY KEY,\n",
    "                sentence TEXT,\n",
    "                embedding INTEGER[]\n",
    "            );\n",
    "        '''\n",
    "\n",
    "        # Execute the query to create the table\n",
    "        cursor.execute(create_table_query)\n",
    "        connection.commit()\n",
    "        print('Table created successfully')\n",
    "\n",
    "        # Insert data into the table\n",
    "        for sentence in sentences:\n",
    "            embeddings = vectorize(sentence)\n",
    "            insert_query = '''\n",
    "                INSERT INTO mysentences (sentence, embedding)\n",
    "                VALUES (%s, %s);\n",
    "            '''\n",
    "            cursor.execute(insert_query, (sentence, embeddings))\n",
    "            connection.commit()\n",
    "\n",
    "        # Fetch and display the data\n",
    "        select_query = \"SELECT * FROM mysentences;\"\n",
    "        cursor.execute(select_query)\n",
    "        rows = cursor.fetchall()\n",
    "        for row in rows:\n",
    "            print(row[1], end='\\n\\n')  # Print the 'sentence' column\n",
    "\n",
    "    except Error as e:\n",
    "        print(f\"Error connecting to PostgreSQL: {e}\")\n",
    "\n",
    "    finally:\n",
    "        # Close the connection\n",
    "        if connection:\n",
    "            cursor.close()\n",
    "            connection.close()\n",
    "            print(\"PostgreSQL connection is closed\")\n",
    "\n",
    "if __name__ == \"__main__\":\n",
    "    add_data()"
   ]
  },
  {
   "cell_type": "code",
   "execution_count": null,
   "id": "83ce8cec-7725-46d2-857c-434cc570a495",
   "metadata": {},
   "outputs": [],
   "source": []
  }
 ],
 "metadata": {
  "kernelspec": {
   "display_name": "Python [conda env:anaconda3-PostgreSQL]",
   "language": "python",
   "name": "conda-env-anaconda3-PostgreSQL-py"
  },
  "language_info": {
   "codemirror_mode": {
    "name": "ipython",
    "version": 3
   },
   "file_extension": ".py",
   "mimetype": "text/x-python",
   "name": "python",
   "nbconvert_exporter": "python",
   "pygments_lexer": "ipython3",
   "version": "3.11.13"
  }
 },
 "nbformat": 4,
 "nbformat_minor": 5
}
